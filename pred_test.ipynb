{
 "cells": [
  {
   "cell_type": "markdown",
   "metadata": {},
   "source": [
    "# Predykcja wytrzymałości na ściskanie na podstawie rzeczywistych danych wpisanych"
   ]
  },
  {
   "cell_type": "markdown",
   "metadata": {},
   "source": [
    "Za pomocą bibloteki \"pickle\" model został wyciągnięty oraz zserializowany w celu dalszego użytkowania. Dużym plusem jest to że nie potrzeba instalować dodatkowych bibliotek oprócz standardowej biblioteki \"pickle\"\n"
   ]
  },
  {
   "cell_type": "code",
   "execution_count": 168,
   "metadata": {},
   "outputs": [],
   "source": [
    "import pickle\n",
    "import pandas as pd"
   ]
  },
  {
   "cell_type": "markdown",
   "metadata": {},
   "source": [
    "W tym kroku przypiszemy wartości poszczególnych składników mieszaki betonowej"
   ]
  },
  {
   "cell_type": "code",
   "execution_count": 169,
   "metadata": {},
   "outputs": [],
   "source": [
    "rows = [430,0, 0, 178.5, 8.0, 1001.9, 688.7, 28]"
   ]
  },
  {
   "cell_type": "code",
   "execution_count": 170,
   "metadata": {},
   "outputs": [],
   "source": [
    "columns = ['cement [kg/m3]',\"żużel_wielkopiecowy [kg/m3]\", 'popiół_lotny [kg/m3]', 'woda [kg/m3]',\n",
    "       'superplastyfikator [kg/m3]', 'kruszywo_grube [kg/m3]',\n",
    "       'kruszywo_drobne [kg/m3]', 'wiek [dni]']"
   ]
  },
  {
   "cell_type": "code",
   "execution_count": 171,
   "metadata": {},
   "outputs": [
    {
     "data": {
      "text/html": [
       "<div>\n",
       "<style scoped>\n",
       "    .dataframe tbody tr th:only-of-type {\n",
       "        vertical-align: middle;\n",
       "    }\n",
       "\n",
       "    .dataframe tbody tr th {\n",
       "        vertical-align: top;\n",
       "    }\n",
       "\n",
       "    .dataframe thead th {\n",
       "        text-align: right;\n",
       "    }\n",
       "</style>\n",
       "<table border=\"1\" class=\"dataframe\">\n",
       "  <thead>\n",
       "    <tr style=\"text-align: right;\">\n",
       "      <th></th>\n",
       "      <th>cement [kg/m3]</th>\n",
       "      <th>żużel_wielkopiecowy [kg/m3]</th>\n",
       "      <th>popiół_lotny [kg/m3]</th>\n",
       "      <th>woda [kg/m3]</th>\n",
       "      <th>superplastyfikator [kg/m3]</th>\n",
       "      <th>kruszywo_grube [kg/m3]</th>\n",
       "      <th>kruszywo_drobne [kg/m3]</th>\n",
       "      <th>wiek [dni]</th>\n",
       "    </tr>\n",
       "  </thead>\n",
       "  <tbody>\n",
       "    <tr>\n",
       "      <th>0</th>\n",
       "      <td>430</td>\n",
       "      <td>0</td>\n",
       "      <td>0</td>\n",
       "      <td>178.5</td>\n",
       "      <td>8.0</td>\n",
       "      <td>1001.9</td>\n",
       "      <td>688.7</td>\n",
       "      <td>28</td>\n",
       "    </tr>\n",
       "  </tbody>\n",
       "</table>\n",
       "</div>"
      ],
      "text/plain": [
       "   cement [kg/m3]  żużel_wielkopiecowy [kg/m3]  popiół_lotny [kg/m3]  \\\n",
       "0             430                            0                     0   \n",
       "\n",
       "   woda [kg/m3]  superplastyfikator [kg/m3]  kruszywo_grube [kg/m3]  \\\n",
       "0         178.5                         8.0                  1001.9   \n",
       "\n",
       "   kruszywo_drobne [kg/m3]  wiek [dni]  \n",
       "0                    688.7          28  "
      ]
     },
     "execution_count": 171,
     "metadata": {},
     "output_type": "execute_result"
    }
   ],
   "source": [
    "predicted = pd.DataFrame([dict(zip(columns,rows))])\n",
    "predicted"
   ]
  },
  {
   "cell_type": "markdown",
   "metadata": {},
   "source": [
    "Otwieramy teraz zapisany wcześniej wytrenowany model"
   ]
  },
  {
   "cell_type": "code",
   "execution_count": 172,
   "metadata": {},
   "outputs": [],
   "source": [
    "with open (r\"C:\\Users\\Damian\\Desktop\\xD\\Projekty\\concrete-strenght-calculator\\modelPickle\", \"rb\") as model_dat:\n",
    "    model = pickle.load(model_dat)"
   ]
  },
  {
   "cell_type": "markdown",
   "metadata": {},
   "source": [
    "I podstawiamy nasze przykładowe dane do wytrenowanego modelu"
   ]
  },
  {
   "cell_type": "code",
   "execution_count": 173,
   "metadata": {},
   "outputs": [
    {
     "name": "stdout",
     "output_type": "stream",
     "text": [
      "52.3 MPa\n"
     ]
    }
   ],
   "source": [
    "print(model.predict(predicted)[0], \"MPa\")"
   ]
  },
  {
   "cell_type": "markdown",
   "metadata": {},
   "source": [
    "Teraz zmniejszymy zawartość cementu przy jednoczesnym dodaniu iliości popiołu "
   ]
  },
  {
   "cell_type": "code",
   "execution_count": 174,
   "metadata": {},
   "outputs": [],
   "source": [
    "predicted.loc[0,\"cement [kg/m3]\"] = 350\n",
    "predicted.loc[0,\"popiół_lotny [kg/m3]\"] = 140"
   ]
  },
  {
   "cell_type": "code",
   "execution_count": 175,
   "metadata": {},
   "outputs": [
    {
     "data": {
      "text/html": [
       "<div>\n",
       "<style scoped>\n",
       "    .dataframe tbody tr th:only-of-type {\n",
       "        vertical-align: middle;\n",
       "    }\n",
       "\n",
       "    .dataframe tbody tr th {\n",
       "        vertical-align: top;\n",
       "    }\n",
       "\n",
       "    .dataframe thead th {\n",
       "        text-align: right;\n",
       "    }\n",
       "</style>\n",
       "<table border=\"1\" class=\"dataframe\">\n",
       "  <thead>\n",
       "    <tr style=\"text-align: right;\">\n",
       "      <th></th>\n",
       "      <th>cement [kg/m3]</th>\n",
       "      <th>żużel_wielkopiecowy [kg/m3]</th>\n",
       "      <th>popiół_lotny [kg/m3]</th>\n",
       "      <th>woda [kg/m3]</th>\n",
       "      <th>superplastyfikator [kg/m3]</th>\n",
       "      <th>kruszywo_grube [kg/m3]</th>\n",
       "      <th>kruszywo_drobne [kg/m3]</th>\n",
       "      <th>wiek [dni]</th>\n",
       "    </tr>\n",
       "  </thead>\n",
       "  <tbody>\n",
       "    <tr>\n",
       "      <th>0</th>\n",
       "      <td>350</td>\n",
       "      <td>0</td>\n",
       "      <td>140</td>\n",
       "      <td>178.5</td>\n",
       "      <td>8.0</td>\n",
       "      <td>1001.9</td>\n",
       "      <td>688.7</td>\n",
       "      <td>28</td>\n",
       "    </tr>\n",
       "  </tbody>\n",
       "</table>\n",
       "</div>"
      ],
      "text/plain": [
       "   cement [kg/m3]  żużel_wielkopiecowy [kg/m3]  popiół_lotny [kg/m3]  \\\n",
       "0             350                            0                   140   \n",
       "\n",
       "   woda [kg/m3]  superplastyfikator [kg/m3]  kruszywo_grube [kg/m3]  \\\n",
       "0         178.5                         8.0                  1001.9   \n",
       "\n",
       "   kruszywo_drobne [kg/m3]  wiek [dni]  \n",
       "0                    688.7          28  "
      ]
     },
     "execution_count": 175,
     "metadata": {},
     "output_type": "execute_result"
    }
   ],
   "source": [
    "predicted"
   ]
  },
  {
   "cell_type": "markdown",
   "metadata": {},
   "source": [
    "I ponownie przeliczamy nasz model"
   ]
  },
  {
   "cell_type": "code",
   "execution_count": 176,
   "metadata": {},
   "outputs": [
    {
     "name": "stdout",
     "output_type": "stream",
     "text": [
      "37.27 MPa\n"
     ]
    }
   ],
   "source": [
    "print(model.predict(predicted)[0], \"MPa\")"
   ]
  }
 ],
 "metadata": {
  "interpreter": {
   "hash": "ac840c63437000a6bf300dcff8ffe2d87637156e1623f32d8b8c9d73a361cc14"
  },
  "kernelspec": {
   "display_name": "Python 3.9.7 ('Damian')",
   "language": "python",
   "name": "python3"
  },
  "language_info": {
   "codemirror_mode": {
    "name": "ipython",
    "version": 3
   },
   "file_extension": ".py",
   "mimetype": "text/x-python",
   "name": "python",
   "nbconvert_exporter": "python",
   "pygments_lexer": "ipython3",
   "version": "3.9.7"
  },
  "orig_nbformat": 4
 },
 "nbformat": 4,
 "nbformat_minor": 2
}
