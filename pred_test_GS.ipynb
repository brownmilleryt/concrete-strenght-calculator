{
 "cells": [
  {
   "cell_type": "markdown",
   "metadata": {},
   "source": [
    "# Predykcja wytrzymałości na ściskanie na podstawie rzeczywistych danych wpisanych"
   ]
  },
  {
   "cell_type": "markdown",
   "metadata": {},
   "source": [
    "Za pomocą bibloteki \"pickle\" model został wyciągnięty oraz zserializowany w celu dalszego użytkowania. Dużym plusem jest to że nie potrzeba instalować dodatkowych bibliotek oprócz standardowej biblioteki \"pickle\"\n",
    "\n",
    "Do uruchomienia niniejszego skryptu niezbędna jest instalacja:\n",
    "1. Pythona w wersji 3.6 +\n",
    "2. Bibliotek pickle, pandas, numpy (Wszystkie biblioteki są domyślnie zainstalowane w pakietach Anaconda lub WinPython)\n",
    "\n",
    "Jest to wersja przeznaczona dla systemów Linux lub też systemów nieposiadających Excela\n"
   ]
  },
  {
   "cell_type": "markdown",
   "metadata": {},
   "source": [
    "Uruchamiaj po kolei poszczególne kolumny aby móc edytować wartości w pliku Excel"
   ]
  },
  {
   "cell_type": "code",
   "execution_count": 155,
   "metadata": {},
   "outputs": [],
   "source": [
    "try:\n",
    "    import pickle\n",
    "except:\n",
    "    %pip install pickle\n",
    "try:\n",
    "    import numpy as np\n",
    "except:\n",
    "    %pip install numpy\n",
    "try:\n",
    "    import pandas as pd\n",
    "except:\n",
    "    %pip install pandas\n",
    "try:\n",
    "    import webbrowser as webpd\n",
    "except:\n",
    "    %pip install webbrowser\n",
    "try:\n",
    "    import seaborn as sns\n",
    "except:\n",
    "    %pip install seaborn\n"
   ]
  },
  {
   "cell_type": "markdown",
   "metadata": {},
   "source": [
    "W tym kroku przypiszemy wartości poszczególnych składników mieszaki betonowej"
   ]
  },
  {
   "cell_type": "code",
   "execution_count": 101,
   "metadata": {},
   "outputs": [],
   "source": [
    "rows = [430,0, 0, 178.5, 8.0, 1001.9, 688.7, 28]"
   ]
  },
  {
   "cell_type": "code",
   "execution_count": 102,
   "metadata": {},
   "outputs": [],
   "source": [
    "columns = ['cement [kg/m3]',\"żużel_wielkopiecowy [kg/m3]\",\n",
    "       'popiół_lotny [kg/m3]', 'woda [kg/m3]',\n",
    "       'superplastyfikator [kg/m3]', 'kruszywo_grube [kg/m3]',\n",
    "       'kruszywo_drobne [kg/m3]', 'wiek [dni]']"
   ]
  },
  {
   "cell_type": "code",
   "execution_count": 103,
   "metadata": {},
   "outputs": [
    {
     "data": {
      "text/html": [
       "<div>\n",
       "<style scoped>\n",
       "    .dataframe tbody tr th:only-of-type {\n",
       "        vertical-align: middle;\n",
       "    }\n",
       "\n",
       "    .dataframe tbody tr th {\n",
       "        vertical-align: top;\n",
       "    }\n",
       "\n",
       "    .dataframe thead th {\n",
       "        text-align: right;\n",
       "    }\n",
       "</style>\n",
       "<table border=\"1\" class=\"dataframe\">\n",
       "  <thead>\n",
       "    <tr style=\"text-align: right;\">\n",
       "      <th></th>\n",
       "      <th>cement [kg/m3]</th>\n",
       "      <th>żużel_wielkopiecowy [kg/m3]</th>\n",
       "      <th>popiół_lotny [kg/m3]</th>\n",
       "      <th>woda [kg/m3]</th>\n",
       "      <th>superplastyfikator [kg/m3]</th>\n",
       "      <th>kruszywo_grube [kg/m3]</th>\n",
       "      <th>kruszywo_drobne [kg/m3]</th>\n",
       "      <th>wiek [dni]</th>\n",
       "    </tr>\n",
       "  </thead>\n",
       "  <tbody>\n",
       "    <tr>\n",
       "      <th>0</th>\n",
       "      <td>430</td>\n",
       "      <td>0</td>\n",
       "      <td>0</td>\n",
       "      <td>178.5</td>\n",
       "      <td>8.0</td>\n",
       "      <td>1001.9</td>\n",
       "      <td>688.7</td>\n",
       "      <td>28</td>\n",
       "    </tr>\n",
       "  </tbody>\n",
       "</table>\n",
       "</div>"
      ],
      "text/plain": [
       "   cement [kg/m3]  żużel_wielkopiecowy [kg/m3]  popiół_lotny [kg/m3]  \\\n",
       "0             430                            0                     0   \n",
       "\n",
       "   woda [kg/m3]  superplastyfikator [kg/m3]  kruszywo_grube [kg/m3]  \\\n",
       "0         178.5                         8.0                  1001.9   \n",
       "\n",
       "   kruszywo_drobne [kg/m3]  wiek [dni]  \n",
       "0                    688.7          28  "
      ]
     },
     "execution_count": 103,
     "metadata": {},
     "output_type": "execute_result"
    }
   ],
   "source": [
    "predicted = pd.DataFrame([dict(zip(columns,rows))])\n",
    "predicted"
   ]
  },
  {
   "cell_type": "markdown",
   "metadata": {},
   "source": [
    "## Otwieramy teraz zapisane wcześniej modele"
   ]
  },
  {
   "cell_type": "markdown",
   "metadata": {},
   "source": [
    "Model oparty na drzewach decyzyjnych"
   ]
  },
  {
   "cell_type": "code",
   "execution_count": 104,
   "metadata": {},
   "outputs": [],
   "source": [
    "with open (r\"modelPickle\", \"rb\") as model_dat:\n",
    "    model = pickle.load(model_dat)"
   ]
  },
  {
   "cell_type": "markdown",
   "metadata": {},
   "source": [
    "Model wykorzystujący strukturę wzmacniającą gradient"
   ]
  },
  {
   "cell_type": "code",
   "execution_count": 105,
   "metadata": {},
   "outputs": [],
   "source": [
    "with open (r\"modelPickle2\", \"rb\") as model_dat2:\n",
    "    model2 = pickle.load(model_dat2)"
   ]
  },
  {
   "cell_type": "markdown",
   "metadata": {},
   "source": [
    "I podstawiamy nasze przykładowe dane do wytrenowanego modelu"
   ]
  },
  {
   "cell_type": "code",
   "execution_count": 106,
   "metadata": {},
   "outputs": [
    {
     "name": "stdout",
     "output_type": "stream",
     "text": [
      "52.3 MPa\n"
     ]
    }
   ],
   "source": [
    "print(model.predict(predicted)[0], \"MPa\") #Drzewo decyzyjne"
   ]
  },
  {
   "cell_type": "code",
   "execution_count": 107,
   "metadata": {},
   "outputs": [
    {
     "name": "stdout",
     "output_type": "stream",
     "text": [
      "51.195663093324114 MPa\n"
     ]
    }
   ],
   "source": [
    "print(model2.predict(predicted)[0], \"MPa\") #Gradient boost"
   ]
  },
  {
   "cell_type": "markdown",
   "metadata": {},
   "source": [
    "## Zedytuj teraz arkusz Google klikając w poniższy link podstawiając własne dane :)"
   ]
  },
  {
   "cell_type": "code",
   "execution_count": 108,
   "metadata": {},
   "outputs": [],
   "source": [
    "sheet_url = r\"https://docs.google.com/spreadsheets/d/1ExJzMHVX6DPa7SIrhyfhSgiNhnXpAPjJm1IjL8BtF4s/edit#gid=0\"\n",
    "\n",
    "#webpd.open(sheet_url)"
   ]
  },
  {
   "cell_type": "markdown",
   "metadata": {},
   "source": [
    "\n",
    "Możesz teraz zedytować swoje wartości w otwartym arkuszu google. \n",
    "\n",
    "Po edycji wykonaj poniższą komórkę\n"
   ]
  },
  {
   "cell_type": "code",
   "execution_count": 149,
   "metadata": {},
   "outputs": [
    {
     "data": {
      "text/html": [
       "<div>\n",
       "<style scoped>\n",
       "    .dataframe tbody tr th:only-of-type {\n",
       "        vertical-align: middle;\n",
       "    }\n",
       "\n",
       "    .dataframe tbody tr th {\n",
       "        vertical-align: top;\n",
       "    }\n",
       "\n",
       "    .dataframe thead th {\n",
       "        text-align: right;\n",
       "    }\n",
       "</style>\n",
       "<table border=\"1\" class=\"dataframe\">\n",
       "  <thead>\n",
       "    <tr style=\"text-align: right;\">\n",
       "      <th></th>\n",
       "      <th>cement [kg/m3]</th>\n",
       "      <th>żużel_wielkopiecowy [kg/m3]</th>\n",
       "      <th>popiół_lotny [kg/m3]</th>\n",
       "      <th>woda [kg/m3]</th>\n",
       "      <th>superplastyfikator [kg/m3]</th>\n",
       "      <th>kruszywo_grube [kg/m3]</th>\n",
       "      <th>kruszywo_drobne [kg/m3]</th>\n",
       "      <th>wiek [dni]</th>\n",
       "    </tr>\n",
       "  </thead>\n",
       "  <tbody>\n",
       "    <tr>\n",
       "      <th>0</th>\n",
       "      <td>440</td>\n",
       "      <td>0</td>\n",
       "      <td>0</td>\n",
       "      <td>120</td>\n",
       "      <td>8</td>\n",
       "      <td>999.9</td>\n",
       "      <td>788.5</td>\n",
       "      <td>28</td>\n",
       "    </tr>\n",
       "  </tbody>\n",
       "</table>\n",
       "</div>"
      ],
      "text/plain": [
       "   cement [kg/m3]  żużel_wielkopiecowy [kg/m3]  popiół_lotny [kg/m3]  \\\n",
       "0             440                            0                     0   \n",
       "\n",
       "   woda [kg/m3]  superplastyfikator [kg/m3]  kruszywo_grube [kg/m3]  \\\n",
       "0           120                           8                   999.9   \n",
       "\n",
       "   kruszywo_drobne [kg/m3]  wiek [dni]  \n",
       "0                    788.5          28  "
      ]
     },
     "execution_count": 149,
     "metadata": {},
     "output_type": "execute_result"
    }
   ],
   "source": [
    "url = sheet_url.replace(\"/edit#gid=\", \"/export?format=csv&gid=\")\n",
    "predicted2 = pd.read_csv(url)\n",
    "for column in predicted2.columns:\n",
    "    if predicted2[column].dtype == \"object\":\n",
    "       predicted2[column] = predicted2[column].str.replace(',', '.').astype(float)\n",
    "\n",
    "\n",
    "predicted2"
   ]
  },
  {
   "cell_type": "code",
   "execution_count": 151,
   "metadata": {},
   "outputs": [
    {
     "name": "stdout",
     "output_type": "stream",
     "text": [
      "67.57 MPa\n"
     ]
    }
   ],
   "source": [
    "wynik_dt = model.predict(predicted2)[0] #Drzewo decyzyjne\n",
    "\n",
    "print(wynik_dt, \"MPa\")"
   ]
  },
  {
   "cell_type": "code",
   "execution_count": 152,
   "metadata": {},
   "outputs": [
    {
     "name": "stdout",
     "output_type": "stream",
     "text": [
      "56.19575707588172 MPa\n"
     ]
    }
   ],
   "source": [
    "wynik_Xboost = model2.predict(predicted2)[0] #Gradient boost\n",
    "\n",
    "print(wynik_Xboost, \"MPa\")"
   ]
  },
  {
   "cell_type": "markdown",
   "metadata": {},
   "source": [
    "## Jeżeli chcesz wykonać obliczenia dla innego zestawu danych to nie zamykaj pliku excel tylko wpisz ponowne wartości i uruchom ponownie poniższą komórkę"
   ]
  },
  {
   "cell_type": "code",
   "execution_count": 153,
   "metadata": {},
   "outputs": [],
   "source": [
    "przyrost_dt = []\n",
    "przyrost_xb = []\n",
    "\n",
    "\n",
    "own_predict = pd.read_csv(url)\n",
    "for column in own_predict.columns:\n",
    "    if own_predict[column].dtype == \"object\":\n",
    "       own_predict[column] = own_predict[column].str.replace(',', '.').astype(float)\n",
    "\n",
    "wynik_dt = model.predict(own_predict)[0] #Drzewo decyzyjne\n",
    "wynik_Xboost = model2.predict(own_predict)[0] #Gradient boost\n",
    "\n",
    "for i in range(1,29):\n",
    "    own_predict.loc[0,\"wiek [dni]\"] = i\n",
    "\n",
    "    wynik_dt = model.predict(own_predict)[0] #Drzewo decyzyjne\n",
    "    wynik_Xboost = model2.predict(own_predict)[0] #Gradient boost\n",
    "\n",
    "    przyrost_dt.append(wynik_dt)\n",
    "    przyrost_xb.append(wynik_Xboost)\n",
    "\n",
    "\n",
    "tbl = pd.DataFrame(list(zip(przyrost_dt,przyrost_xb)), columns=[\"Przyrost drzewo decyzyjne\",\"Przyrost xBoost\"], index=np.arange(1, len(przyrost_dt)+1))"
   ]
  },
  {
   "cell_type": "markdown",
   "metadata": {},
   "source": [
    "Dodanie osobnego arkusza przedstawiającego przyrost wytrzymałości w czasie"
   ]
  },
  {
   "cell_type": "code",
   "execution_count": 154,
   "metadata": {},
   "outputs": [
    {
     "data": {
      "text/html": [
       "<div>\n",
       "<style scoped>\n",
       "    .dataframe tbody tr th:only-of-type {\n",
       "        vertical-align: middle;\n",
       "    }\n",
       "\n",
       "    .dataframe tbody tr th {\n",
       "        vertical-align: top;\n",
       "    }\n",
       "\n",
       "    .dataframe thead th {\n",
       "        text-align: right;\n",
       "    }\n",
       "</style>\n",
       "<table border=\"1\" class=\"dataframe\">\n",
       "  <thead>\n",
       "    <tr style=\"text-align: right;\">\n",
       "      <th></th>\n",
       "      <th>Przyrost drzewo decyzyjne</th>\n",
       "      <th>Przyrost xBoost</th>\n",
       "    </tr>\n",
       "  </thead>\n",
       "  <tbody>\n",
       "    <tr>\n",
       "      <th>1</th>\n",
       "      <td>35.30</td>\n",
       "      <td>23.240256</td>\n",
       "    </tr>\n",
       "    <tr>\n",
       "      <th>2</th>\n",
       "      <td>35.30</td>\n",
       "      <td>23.240256</td>\n",
       "    </tr>\n",
       "    <tr>\n",
       "      <th>3</th>\n",
       "      <td>35.30</td>\n",
       "      <td>33.014867</td>\n",
       "    </tr>\n",
       "    <tr>\n",
       "      <th>4</th>\n",
       "      <td>35.30</td>\n",
       "      <td>33.014867</td>\n",
       "    </tr>\n",
       "    <tr>\n",
       "      <th>5</th>\n",
       "      <td>35.30</td>\n",
       "      <td>33.014867</td>\n",
       "    </tr>\n",
       "    <tr>\n",
       "      <th>6</th>\n",
       "      <td>54.10</td>\n",
       "      <td>45.875011</td>\n",
       "    </tr>\n",
       "    <tr>\n",
       "      <th>7</th>\n",
       "      <td>54.10</td>\n",
       "      <td>45.875011</td>\n",
       "    </tr>\n",
       "    <tr>\n",
       "      <th>8</th>\n",
       "      <td>54.10</td>\n",
       "      <td>45.875011</td>\n",
       "    </tr>\n",
       "    <tr>\n",
       "      <th>9</th>\n",
       "      <td>54.10</td>\n",
       "      <td>45.606402</td>\n",
       "    </tr>\n",
       "    <tr>\n",
       "      <th>10</th>\n",
       "      <td>54.10</td>\n",
       "      <td>45.606402</td>\n",
       "    </tr>\n",
       "    <tr>\n",
       "      <th>11</th>\n",
       "      <td>59.76</td>\n",
       "      <td>46.397074</td>\n",
       "    </tr>\n",
       "    <tr>\n",
       "      <th>12</th>\n",
       "      <td>59.76</td>\n",
       "      <td>46.397074</td>\n",
       "    </tr>\n",
       "    <tr>\n",
       "      <th>13</th>\n",
       "      <td>59.76</td>\n",
       "      <td>46.397074</td>\n",
       "    </tr>\n",
       "    <tr>\n",
       "      <th>14</th>\n",
       "      <td>59.76</td>\n",
       "      <td>46.397074</td>\n",
       "    </tr>\n",
       "    <tr>\n",
       "      <th>15</th>\n",
       "      <td>59.76</td>\n",
       "      <td>46.397074</td>\n",
       "    </tr>\n",
       "    <tr>\n",
       "      <th>16</th>\n",
       "      <td>59.76</td>\n",
       "      <td>46.397074</td>\n",
       "    </tr>\n",
       "    <tr>\n",
       "      <th>17</th>\n",
       "      <td>59.76</td>\n",
       "      <td>46.397074</td>\n",
       "    </tr>\n",
       "    <tr>\n",
       "      <th>18</th>\n",
       "      <td>59.76</td>\n",
       "      <td>46.397074</td>\n",
       "    </tr>\n",
       "    <tr>\n",
       "      <th>19</th>\n",
       "      <td>59.76</td>\n",
       "      <td>46.397074</td>\n",
       "    </tr>\n",
       "    <tr>\n",
       "      <th>20</th>\n",
       "      <td>59.76</td>\n",
       "      <td>46.397074</td>\n",
       "    </tr>\n",
       "    <tr>\n",
       "      <th>21</th>\n",
       "      <td>59.76</td>\n",
       "      <td>46.397074</td>\n",
       "    </tr>\n",
       "    <tr>\n",
       "      <th>22</th>\n",
       "      <td>67.57</td>\n",
       "      <td>56.195757</td>\n",
       "    </tr>\n",
       "    <tr>\n",
       "      <th>23</th>\n",
       "      <td>67.57</td>\n",
       "      <td>56.195757</td>\n",
       "    </tr>\n",
       "    <tr>\n",
       "      <th>24</th>\n",
       "      <td>67.57</td>\n",
       "      <td>56.195757</td>\n",
       "    </tr>\n",
       "    <tr>\n",
       "      <th>25</th>\n",
       "      <td>67.57</td>\n",
       "      <td>56.195757</td>\n",
       "    </tr>\n",
       "    <tr>\n",
       "      <th>26</th>\n",
       "      <td>67.57</td>\n",
       "      <td>56.195757</td>\n",
       "    </tr>\n",
       "    <tr>\n",
       "      <th>27</th>\n",
       "      <td>67.57</td>\n",
       "      <td>56.195757</td>\n",
       "    </tr>\n",
       "    <tr>\n",
       "      <th>28</th>\n",
       "      <td>67.57</td>\n",
       "      <td>56.195757</td>\n",
       "    </tr>\n",
       "  </tbody>\n",
       "</table>\n",
       "</div>"
      ],
      "text/plain": [
       "    Przyrost drzewo decyzyjne  Przyrost xBoost\n",
       "1                       35.30        23.240256\n",
       "2                       35.30        23.240256\n",
       "3                       35.30        33.014867\n",
       "4                       35.30        33.014867\n",
       "5                       35.30        33.014867\n",
       "6                       54.10        45.875011\n",
       "7                       54.10        45.875011\n",
       "8                       54.10        45.875011\n",
       "9                       54.10        45.606402\n",
       "10                      54.10        45.606402\n",
       "11                      59.76        46.397074\n",
       "12                      59.76        46.397074\n",
       "13                      59.76        46.397074\n",
       "14                      59.76        46.397074\n",
       "15                      59.76        46.397074\n",
       "16                      59.76        46.397074\n",
       "17                      59.76        46.397074\n",
       "18                      59.76        46.397074\n",
       "19                      59.76        46.397074\n",
       "20                      59.76        46.397074\n",
       "21                      59.76        46.397074\n",
       "22                      67.57        56.195757\n",
       "23                      67.57        56.195757\n",
       "24                      67.57        56.195757\n",
       "25                      67.57        56.195757\n",
       "26                      67.57        56.195757\n",
       "27                      67.57        56.195757\n",
       "28                      67.57        56.195757"
      ]
     },
     "execution_count": 154,
     "metadata": {},
     "output_type": "execute_result"
    }
   ],
   "source": [
    "tbl\n"
   ]
  },
  {
   "cell_type": "markdown",
   "metadata": {},
   "source": [
    "Dodanie wykresu ilustrującego wykres przyrostu wytrzymałości w czasie"
   ]
  },
  {
   "cell_type": "markdown",
   "metadata": {},
   "source": [
    "## Na podstawie danych możemy stwierdzić że algorytm uczenia maszynowego oparty na gradient boostingu daje najbardziej rzeczywiste rezultaty\n",
    "\n",
    "Zachęcam do testowania na własnych rzeczywistych danych\n"
   ]
  }
 ],
 "metadata": {
  "interpreter": {
   "hash": "ac840c63437000a6bf300dcff8ffe2d87637156e1623f32d8b8c9d73a361cc14"
  },
  "kernelspec": {
   "display_name": "Python 3.9.7 ('Damian')",
   "language": "python",
   "name": "python3"
  },
  "language_info": {
   "codemirror_mode": {
    "name": "ipython",
    "version": 3
   },
   "file_extension": ".py",
   "mimetype": "text/x-python",
   "name": "python",
   "nbconvert_exporter": "python",
   "pygments_lexer": "ipython3",
   "version": "3.9.7"
  },
  "orig_nbformat": 4
 },
 "nbformat": 4,
 "nbformat_minor": 2
}
