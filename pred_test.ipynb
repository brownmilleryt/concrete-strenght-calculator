{
 "cells": [
  {
   "cell_type": "markdown",
   "metadata": {},
   "source": [
    "# Predykcja wytrzymałości na ściskanie na podstawie rzeczywistych danych wpisanych"
   ]
  },
  {
   "cell_type": "markdown",
   "metadata": {},
   "source": [
    "Za pomocą bibloteki \"pickle\" model został wyciągnięty oraz zserializowany w celu dalszego użytkowania. Dużym plusem jest to że nie potrzeba instalować dodatkowych bibliotek oprócz standardowej biblioteki \"pickle\"\n"
   ]
  },
  {
   "cell_type": "markdown",
   "metadata": {},
   "source": [
    "Uruchamiaj po kolei poszczególne kolumny aby móc edytować wartości w pliku Excel"
   ]
  },
  {
   "cell_type": "code",
   "execution_count": 213,
   "metadata": {},
   "outputs": [],
   "source": [
    "import pickle\n",
    "import pandas as pd\n",
    "import xlwings as xw\n",
    "import numpy as np"
   ]
  },
  {
   "cell_type": "markdown",
   "metadata": {},
   "source": [
    "W tym kroku przypiszemy wartości poszczególnych składników mieszaki betonowej"
   ]
  },
  {
   "cell_type": "code",
   "execution_count": 214,
   "metadata": {},
   "outputs": [],
   "source": [
    "rows = [430,0, 0, 178.5, 8.0, 1001.9, 688.7, 28]"
   ]
  },
  {
   "cell_type": "code",
   "execution_count": 215,
   "metadata": {},
   "outputs": [],
   "source": [
    "columns = ['cement [kg/m3]',\"żużel_wielkopiecowy [kg/m3]\",\n",
    "       'popiół_lotny [kg/m3]', 'woda [kg/m3]',\n",
    "       'superplastyfikator [kg/m3]', 'kruszywo_grube [kg/m3]',\n",
    "       'kruszywo_drobne [kg/m3]', 'wiek [dni]']"
   ]
  },
  {
   "cell_type": "code",
   "execution_count": 216,
   "metadata": {},
   "outputs": [
    {
     "data": {
      "text/html": [
       "<div>\n",
       "<style scoped>\n",
       "    .dataframe tbody tr th:only-of-type {\n",
       "        vertical-align: middle;\n",
       "    }\n",
       "\n",
       "    .dataframe tbody tr th {\n",
       "        vertical-align: top;\n",
       "    }\n",
       "\n",
       "    .dataframe thead th {\n",
       "        text-align: right;\n",
       "    }\n",
       "</style>\n",
       "<table border=\"1\" class=\"dataframe\">\n",
       "  <thead>\n",
       "    <tr style=\"text-align: right;\">\n",
       "      <th></th>\n",
       "      <th>cement [kg/m3]</th>\n",
       "      <th>żużel_wielkopiecowy [kg/m3]</th>\n",
       "      <th>popiół_lotny [kg/m3]</th>\n",
       "      <th>woda [kg/m3]</th>\n",
       "      <th>superplastyfikator [kg/m3]</th>\n",
       "      <th>kruszywo_grube [kg/m3]</th>\n",
       "      <th>kruszywo_drobne [kg/m3]</th>\n",
       "      <th>wiek [dni]</th>\n",
       "    </tr>\n",
       "  </thead>\n",
       "  <tbody>\n",
       "    <tr>\n",
       "      <th>0</th>\n",
       "      <td>430</td>\n",
       "      <td>0</td>\n",
       "      <td>0</td>\n",
       "      <td>178.5</td>\n",
       "      <td>8.0</td>\n",
       "      <td>1001.9</td>\n",
       "      <td>688.7</td>\n",
       "      <td>28</td>\n",
       "    </tr>\n",
       "  </tbody>\n",
       "</table>\n",
       "</div>"
      ],
      "text/plain": [
       "   cement [kg/m3]  żużel_wielkopiecowy [kg/m3]  popiół_lotny [kg/m3]  \\\n",
       "0             430                            0                     0   \n",
       "\n",
       "   woda [kg/m3]  superplastyfikator [kg/m3]  kruszywo_grube [kg/m3]  \\\n",
       "0         178.5                         8.0                  1001.9   \n",
       "\n",
       "   kruszywo_drobne [kg/m3]  wiek [dni]  \n",
       "0                    688.7          28  "
      ]
     },
     "execution_count": 216,
     "metadata": {},
     "output_type": "execute_result"
    }
   ],
   "source": [
    "predicted = pd.DataFrame([dict(zip(columns,rows))])\n",
    "predicted"
   ]
  },
  {
   "cell_type": "markdown",
   "metadata": {},
   "source": [
    "Wyświetlanie danych w excelu."
   ]
  },
  {
   "cell_type": "code",
   "execution_count": 217,
   "metadata": {},
   "outputs": [],
   "source": [
    "xw.view(predicted)"
   ]
  },
  {
   "cell_type": "markdown",
   "metadata": {},
   "source": [
    "## Otwieramy teraz zapisane wcześniej modele"
   ]
  },
  {
   "cell_type": "markdown",
   "metadata": {},
   "source": [
    "Model oparty na drzewach decyzyjnych"
   ]
  },
  {
   "cell_type": "code",
   "execution_count": 295,
   "metadata": {},
   "outputs": [],
   "source": [
    "with open (r\"modelPickle\", \"rb\") as model_dat:\n",
    "    model = pickle.load(model_dat)"
   ]
  },
  {
   "cell_type": "markdown",
   "metadata": {},
   "source": [
    "Model wykorzystujący strukturę wzmacniającą gradient"
   ]
  },
  {
   "cell_type": "code",
   "execution_count": 296,
   "metadata": {},
   "outputs": [],
   "source": [
    "with open (r\"modelPickle2\", \"rb\") as model_dat2:\n",
    "    model2 = pickle.load(model_dat2)"
   ]
  },
  {
   "cell_type": "markdown",
   "metadata": {},
   "source": [
    "I podstawiamy nasze przykładowe dane do wytrenowanego modelu"
   ]
  },
  {
   "cell_type": "code",
   "execution_count": 220,
   "metadata": {},
   "outputs": [
    {
     "name": "stdout",
     "output_type": "stream",
     "text": [
      "52.3 MPa\n"
     ]
    }
   ],
   "source": [
    "print(model.predict(predicted)[0], \"MPa\") #Drzewo decyzyjne"
   ]
  },
  {
   "cell_type": "code",
   "execution_count": 221,
   "metadata": {},
   "outputs": [
    {
     "name": "stdout",
     "output_type": "stream",
     "text": [
      "51.195663093324114 MPa\n"
     ]
    }
   ],
   "source": [
    "print(model2.predict(predicted)[0], \"MPa\") #Gradient boost"
   ]
  },
  {
   "cell_type": "markdown",
   "metadata": {},
   "source": [
    "## Zedytuj teraz plik Excel podstawiając własne dane :)"
   ]
  },
  {
   "cell_type": "markdown",
   "metadata": {},
   "source": [
    "Możesz teraz zedytować swoje wartości w otwartym pliku Excel. \n",
    "\n",
    "Po edycji wykonaj poniższą komórkę\n"
   ]
  },
  {
   "cell_type": "code",
   "execution_count": 222,
   "metadata": {},
   "outputs": [
    {
     "data": {
      "text/html": [
       "<div>\n",
       "<style scoped>\n",
       "    .dataframe tbody tr th:only-of-type {\n",
       "        vertical-align: middle;\n",
       "    }\n",
       "\n",
       "    .dataframe tbody tr th {\n",
       "        vertical-align: top;\n",
       "    }\n",
       "\n",
       "    .dataframe thead th {\n",
       "        text-align: right;\n",
       "    }\n",
       "</style>\n",
       "<table border=\"1\" class=\"dataframe\">\n",
       "  <thead>\n",
       "    <tr style=\"text-align: right;\">\n",
       "      <th></th>\n",
       "      <th>cement [kg/m3]</th>\n",
       "      <th>żużel_wielkopiecowy [kg/m3]</th>\n",
       "      <th>popiół_lotny [kg/m3]</th>\n",
       "      <th>woda [kg/m3]</th>\n",
       "      <th>superplastyfikator [kg/m3]</th>\n",
       "      <th>kruszywo_grube [kg/m3]</th>\n",
       "      <th>kruszywo_drobne [kg/m3]</th>\n",
       "      <th>wiek [dni]</th>\n",
       "    </tr>\n",
       "    <tr>\n",
       "      <th></th>\n",
       "      <th></th>\n",
       "      <th></th>\n",
       "      <th></th>\n",
       "      <th></th>\n",
       "      <th></th>\n",
       "      <th></th>\n",
       "      <th></th>\n",
       "      <th></th>\n",
       "    </tr>\n",
       "  </thead>\n",
       "  <tbody>\n",
       "    <tr>\n",
       "      <th>0.0</th>\n",
       "      <td>430.0</td>\n",
       "      <td>0.0</td>\n",
       "      <td>0.0</td>\n",
       "      <td>178.5</td>\n",
       "      <td>8.0</td>\n",
       "      <td>1001.9</td>\n",
       "      <td>688.7</td>\n",
       "      <td>28.0</td>\n",
       "    </tr>\n",
       "  </tbody>\n",
       "</table>\n",
       "</div>"
      ],
      "text/plain": [
       "     cement [kg/m3]  żużel_wielkopiecowy [kg/m3]  popiół_lotny [kg/m3]  \\\n",
       "                                                                         \n",
       "0.0           430.0                          0.0                   0.0   \n",
       "\n",
       "     woda [kg/m3]  superplastyfikator [kg/m3]  kruszywo_grube [kg/m3]  \\\n",
       "                                                                        \n",
       "0.0         178.5                         8.0                  1001.9   \n",
       "\n",
       "     kruszywo_drobne [kg/m3]  wiek [dni]  \n",
       "                                          \n",
       "0.0                    688.7        28.0  "
      ]
     },
     "execution_count": 222,
     "metadata": {},
     "output_type": "execute_result"
    }
   ],
   "source": [
    "predicted2 = xw.books.active.sheets[0].range(\"A1:I2\").options(pd.DataFrame).value\n",
    "predicted2\n"
   ]
  },
  {
   "cell_type": "code",
   "execution_count": 223,
   "metadata": {},
   "outputs": [
    {
     "name": "stdout",
     "output_type": "stream",
     "text": [
      "52.3 MPa\n"
     ]
    }
   ],
   "source": [
    "wynik_dt = model.predict(predicted2)[0] #Drzewo decyzyjne\n",
    "\n",
    "print(wynik_dt, \"MPa\")"
   ]
  },
  {
   "cell_type": "code",
   "execution_count": 224,
   "metadata": {},
   "outputs": [
    {
     "name": "stdout",
     "output_type": "stream",
     "text": [
      "51.195663093324114 MPa\n"
     ]
    }
   ],
   "source": [
    "wynik_Xboost = model2.predict(predicted2)[0] #Gradient boost\n",
    "\n",
    "print(wynik_Xboost, \"MPa\")"
   ]
  },
  {
   "cell_type": "markdown",
   "metadata": {},
   "source": [
    "Wstawimy teraz zapisane dane do Excela"
   ]
  },
  {
   "cell_type": "code",
   "execution_count": 225,
   "metadata": {},
   "outputs": [],
   "source": [
    "ws = xw.books.active.sheets[0]\n",
    "\n",
    "wiek = predicted2.loc[0,\"wiek [dni]\"]\n",
    "\n",
    "ws[\"B4\"].value = [\n",
    "    [\"Przewidziana wytrzymałość na ściskanie po {:.0f} dniach na podstawie:\".format(wiek)],\n",
    "    [\"Drzewa decyzjnego\"], \n",
    "    [\"Algorytmu wzmacniającego strukturę gradientu\"]\n",
    "    ]\n",
    "\n",
    "ws[\"B4\"].columns.autofit()\n",
    "\n",
    "ws[\"C5\"].value = [\n",
    "    [\"{:.2f} MPa\".format(wynik_dt)],\n",
    "    [\"{:.2f} MPa\".format(wynik_Xboost)]\n",
    "    ]"
   ]
  },
  {
   "cell_type": "code",
   "execution_count": 266,
   "metadata": {},
   "outputs": [],
   "source": [
    "try:\n",
    "    ws = xw.books.active.sheets[0]\n",
    "except:\n",
    "    xw.view(predicted)\n",
    "    ws = xw.books.active.sheets[0]"
   ]
  },
  {
   "cell_type": "markdown",
   "metadata": {},
   "source": [
    "## Jeżeli chcesz wykonać obliczenia dla innego zestawu danych to nie zamykaj pliku excel tylko wpisz ponowne wartości i uruchom ponownie poniższą komórkę"
   ]
  },
  {
   "cell_type": "code",
   "execution_count": 292,
   "metadata": {},
   "outputs": [],
   "source": [
    "przyrost_dt = []\n",
    "przyrost_xb = []\n",
    "\n",
    "own_predict = ws[\"A1:I2\"].options(pd.DataFrame).value\n",
    "\n",
    "wynik_dt = model.predict(own_predict)[0] #Drzewo decyzyjne\n",
    "wynik_Xboost = model2.predict(own_predict)[0] #Gradient boost\n",
    "\n",
    "wiek = own_predict.loc[0,\"wiek [dni]\"]\n",
    "\n",
    "ws[\"B4\"].value = [\n",
    "    [\"Przewidziana wytrzymałość na ściskanie po {:.0f} dniach na podstawie:\".format(wiek)],\n",
    "    [\"Drzewa decyzjnego\"], \n",
    "    [\"Algorytmu wzmacniającego strukturę gradientu\"]\n",
    "    ]\n",
    "\n",
    "ws[\"B4\"].columns.autofit()\n",
    "\n",
    "ws[\"C5\"].value = [\n",
    "    [\"{:.2f} MPa\".format(wynik_dt)],\n",
    "    [\"{:.2f} MPa\".format(wynik_Xboost)]\n",
    "    ]\n",
    "\n",
    "for i in range(1,29):\n",
    "    own_predict.loc[0,\"wiek [dni]\"] = i\n",
    "\n",
    "    wynik_dt = model.predict(own_predict)[0] #Drzewo decyzyjne\n",
    "    wynik_Xboost = model2.predict(own_predict)[0] #Gradient boost\n",
    "\n",
    "    przyrost_dt.append(wynik_dt)\n",
    "    przyrost_xb.append(wynik_Xboost)\n",
    "\n",
    "\n",
    "tbl = pd.DataFrame(list(zip(przyrost_dt,przyrost_xb)), columns=[\"Przyrost drzewo decyzyjne\",\"Przyrost xBoost\"], index=np.arange(1, len(przyrost_dt)+1))"
   ]
  },
  {
   "cell_type": "markdown",
   "metadata": {},
   "source": [
    "Dodanie osobnego arkusza przedstawiającego przyrost wytrzymałości w czasie"
   ]
  },
  {
   "cell_type": "code",
   "execution_count": 293,
   "metadata": {},
   "outputs": [],
   "source": [
    "if ws.book.sheets.count < 2:\n",
    "    ws2 = ws.book.sheets.add(after=ws)\n",
    "    \n",
    "ws2[\"A1\"].value = \"Przyrost wytrzymałości na ściskanie w czasie\"\n",
    "ws2[\"A3\"].expand().clear()\n",
    "ws2[\"A1\"].font.bold = True\n",
    "ws2[\"A2\"].value = tbl\n",
    "ws2[\"B2:C2\"].columns.autofit()\n"
   ]
  },
  {
   "cell_type": "markdown",
   "metadata": {},
   "source": [
    "Dodanie wykresu ilustrującego wykres przyrostu wytrzymałości w czasie"
   ]
  },
  {
   "cell_type": "code",
   "execution_count": 294,
   "metadata": {},
   "outputs": [],
   "source": [
    "if ws2.charts.count > 0:\n",
    "    ws2.charts[0].delete()\n",
    "    \n",
    "chart = ws2.charts.add(ws2[\"D2\"].left,ws2[\"D2\"].top, width=620, height=250)\n",
    "chart.set_source_data(ws2[\"A2\"].expand())\n",
    "chart.chart_type = 'line'"
   ]
  },
  {
   "cell_type": "markdown",
   "metadata": {},
   "source": [
    "## Na podstawie danych możemy stwierdzić że algorytm uczenia maszynowego oparty na gradient boostingu daje najbardziej rzeczywiste rezultaty\n",
    "\n",
    "Zachęcam do testowania na własnych rzeczywistych danych\n"
   ]
  }
 ],
 "metadata": {
  "interpreter": {
   "hash": "ac840c63437000a6bf300dcff8ffe2d87637156e1623f32d8b8c9d73a361cc14"
  },
  "kernelspec": {
   "display_name": "Python 3.9.7 ('Damian')",
   "language": "python",
   "name": "python3"
  },
  "language_info": {
   "codemirror_mode": {
    "name": "ipython",
    "version": 3
   },
   "file_extension": ".py",
   "mimetype": "text/x-python",
   "name": "python",
   "nbconvert_exporter": "python",
   "pygments_lexer": "ipython3",
   "version": "3.9.7"
  },
  "orig_nbformat": 4
 },
 "nbformat": 4,
 "nbformat_minor": 2
}
