{
 "cells": [
  {
   "cell_type": "markdown",
   "id": "4e828214",
   "metadata": {},
   "source": [
    "# Jest to wersja \"step by step\"\n",
    "# Każda linijka będzie opisana komentarzem. \n",
    "\n",
    "Powstała ona w celu nauki własnej i lepszego zrozumienia pisanego kodu i operacji wykonywanych na danych\n",
    "\n",
    "\n",
    "# Predykcja wytrzymałości betonu na ściskanie\n",
    "\n"
   ]
  },
  {
   "cell_type": "markdown",
   "id": "d57ad7a3",
   "metadata": {},
   "source": [
    "Wytrzymałość na ściskanie betonu jest określana zazwyczaj w przedziale od 7 do 28 dni (lub w czasie równoważnym do cementu) wg normy PN-EN 206.\n",
    "\n",
    "Ze względu na długi czas oczekiwania na wynik a w szczególności w oczekiwaniu na korekty w składzie betonu postanowiłem opracować model uczenia maszynowego którego celem jest określenie wytrzymałości betonu na ściskanie dla różnych składników wejściowych.\n",
    "\n",
    "Korekty w składzie mieszanki betonowej dokonuje się najczęściej w przypadku niewłaściwej konsystencji mieszanki lub osiągnięcia niewystarczającej wytrzymałości na ściskanie. Dzięki takiemu modelowi będzie można zbadać wpływ poszczególnych skladników na mieszankę betonową a w konsekwencji dobrać ilościowo surowiec w sposób jak najbardziej optymalny \n",
    "\n",
    "Wartości zostaną obliczone za pomocą kilku rodzajów modeli w celu wybrania najbardziej optymalnego rozwiązania i miarodajnego rozwiązania"
   ]
  },
  {
   "cell_type": "markdown",
   "id": "0fa4f92c",
   "metadata": {},
   "source": [
    "Poniższa baza powstała w zakładzie prefabrykacji podczas zarobów próbnych i testowej produkcji betonu.\n",
    "\n",
    "Zawiera ona informacje z naważania składników oraz wytrzymałość na ściskanie po określonej ilości dni\n",
    "\n",
    "W celu zwiększenia ilości próbek w danych wsadowych uwzględniono również wyniki badań kostek \"świadków\" w wieku od 90 do 365 dni oraz zbiór danych z serwisu kaggle.com\n"
   ]
  },
  {
   "cell_type": "markdown",
   "id": "84506e26",
   "metadata": {},
   "source": [
    "# Importowanie niezbędnych bibliotek\n",
    "\n",
    "W poniższym kroku zaimportowałem następijące biblioteki:\n",
    "\n",
    "    a) Pandas - odpowiedzialną za operację na danych\n",
    "    \n",
    "    b) Matplotlib - bibliotekę służącą do generowania wykresów\n",
    "    \n",
    "    c) Seaborn - bibliotekę, niejako nakładkę na matplotlib która umożliwia rysowanie ładniejszych wykresów i ma wbudowane domyślne wykresy staytstyczne\n",
    "    \n",
    "    d) Numpy - biblioteka odpowiedzialna za operacje numeryczne"
   ]
  },
  {
   "cell_type": "code",
   "execution_count": 61,
   "id": "06c0adff",
   "metadata": {},
   "outputs": [],
   "source": [
    "import pandas as pd\n",
    "import seaborn as sns\n",
    "import matplotlib.pyplot as plt\n",
    "import numpy as np\n",
    "\n",
    "from sklearn.linear_model import LinearRegression\n",
    "from sklearn.model_selection import train_test_split\n",
    "from sklearn.preprocessing import PolynomialFeatures\n"
   ]
  },
  {
   "cell_type": "markdown",
   "id": "fbae2fda",
   "metadata": {},
   "source": [
    "Wczytanie pliku bazy danych\n",
    "\n",
    "W poniższym kroku wczytuję dane z pliku .csv\n",
    "literka \"r\" przed stringiem oznacza \"raw input\" przez co nie ma problemów ze znakami ucieczki"
   ]
  },
  {
   "cell_type": "code",
   "execution_count": 62,
   "id": "9d8b5f66",
   "metadata": {},
   "outputs": [],
   "source": [
    "path = r\"C:\\Users\\Damian\\Desktop\\xD\\Projekty\\concrete-strenght-calculator\\concrete.csv\" #sciezka do bazy danych"
   ]
  },
  {
   "cell_type": "markdown",
   "id": "409a6ea4",
   "metadata": {},
   "source": [
    "Do zmiennej beton przypisuję obiekt \"dataframe\" odczytany z pliku .csv za pomocą wbudowanej metody pandasa \".read_csv(ścieżka)\""
   ]
  },
  {
   "cell_type": "code",
   "execution_count": 63,
   "id": "e18531a2",
   "metadata": {},
   "outputs": [],
   "source": [
    "beton = pd.read_csv(path)"
   ]
  },
  {
   "cell_type": "markdown",
   "id": "98235a89",
   "metadata": {},
   "source": [
    "W związku z niewielkim wykorzystaniem wielkopiecowego żużla w receptach wykorzystywanych powszechnie na terenie naszego kraju ze zbioru danych zostanie ten składnik usunięty"
   ]
  },
  {
   "cell_type": "markdown",
   "id": "a864f0d4",
   "metadata": {},
   "source": [
    "Za pomocą metody .drop() usuwam kolumnę z obiektu \"data frame\". W pierwszym argumencie podaję nazwę koilumny, w następnym wektor (1 oznacza kolumnę a 0 oznacza wiersz i nasępnie argument \"inplace\" który odpowiada za zastępowanie oviektu. W przypadku braku \"inplace = True\" należałoby stworzyć osobną zmienną.)"
   ]
  },
  {
   "cell_type": "code",
   "execution_count": 64,
   "id": "52aeee10",
   "metadata": {},
   "outputs": [
    {
     "name": "stderr",
     "output_type": "stream",
     "text": [
      "C:\\Users\\Damian\\AppData\\Local\\Temp/ipykernel_408/2731498070.py:1: FutureWarning: In a future version of pandas all arguments of DataFrame.drop except for the argument 'labels' will be keyword-only.\n",
      "  beton.drop(\"żużel_wielkopiecowy [kg/m3]\",1, inplace=True)\n"
     ]
    }
   ],
   "source": [
    "beton.drop(\"żużel_wielkopiecowy [kg/m3]\",1, inplace=True)"
   ]
  },
  {
   "cell_type": "markdown",
   "id": "39065dbc",
   "metadata": {},
   "source": [
    "Teraz przedstawimy dane wsadowe\n",
    "\n",
    "metoda .info() przedstawia inforacje o obiekcie dataframe przyisanym wcześniej do zmiennej \"beton\""
   ]
  },
  {
   "cell_type": "code",
   "execution_count": 65,
   "id": "d47fc09f",
   "metadata": {},
   "outputs": [
    {
     "name": "stdout",
     "output_type": "stream",
     "text": [
      "<class 'pandas.core.frame.DataFrame'>\n",
      "RangeIndex: 1030 entries, 0 to 1029\n",
      "Data columns (total 8 columns):\n",
      " #   Column                      Non-Null Count  Dtype  \n",
      "---  ------                      --------------  -----  \n",
      " 0   cement [kg/m3]              1030 non-null   float64\n",
      " 1   popiół_lotny [kg/m3]        1030 non-null   float64\n",
      " 2   woda [kg/m3]                1030 non-null   float64\n",
      " 3   superplastyfikator [kg/m3]  1030 non-null   float64\n",
      " 4   kruszywo_grube [kg/m3]      1030 non-null   float64\n",
      " 5   kruszywo_drobne [kg/m3]     1030 non-null   float64\n",
      " 6   wiek [dni]                  1030 non-null   int64  \n",
      " 7   strength                    1030 non-null   float64\n",
      "dtypes: float64(7), int64(1)\n",
      "memory usage: 64.5 KB\n"
     ]
    }
   ],
   "source": [
    "beton.info()"
   ]
  },
  {
   "cell_type": "markdown",
   "id": "7633fb82",
   "metadata": {},
   "source": [
    "W poniższych krokach za pomocą metody .describe() tworzę szybką statystykę moich danych a za pomocą transpozycji transponuję do wygodniejszej formy"
   ]
  },
  {
   "cell_type": "code",
   "execution_count": 66,
   "id": "5f4e6f27",
   "metadata": {},
   "outputs": [
    {
     "data": {
      "text/html": [
       "<div>\n",
       "<style scoped>\n",
       "    .dataframe tbody tr th:only-of-type {\n",
       "        vertical-align: middle;\n",
       "    }\n",
       "\n",
       "    .dataframe tbody tr th {\n",
       "        vertical-align: top;\n",
       "    }\n",
       "\n",
       "    .dataframe thead th {\n",
       "        text-align: right;\n",
       "    }\n",
       "</style>\n",
       "<table border=\"1\" class=\"dataframe\">\n",
       "  <thead>\n",
       "    <tr style=\"text-align: right;\">\n",
       "      <th></th>\n",
       "      <th>count</th>\n",
       "      <th>mean</th>\n",
       "      <th>std</th>\n",
       "      <th>min</th>\n",
       "      <th>25%</th>\n",
       "      <th>50%</th>\n",
       "      <th>75%</th>\n",
       "      <th>max</th>\n",
       "    </tr>\n",
       "  </thead>\n",
       "  <tbody>\n",
       "    <tr>\n",
       "      <th>cement [kg/m3]</th>\n",
       "      <td>1030.0</td>\n",
       "      <td>281.167864</td>\n",
       "      <td>104.506364</td>\n",
       "      <td>102.00</td>\n",
       "      <td>192.375</td>\n",
       "      <td>272.900</td>\n",
       "      <td>350.000</td>\n",
       "      <td>540.0</td>\n",
       "    </tr>\n",
       "    <tr>\n",
       "      <th>popiół_lotny [kg/m3]</th>\n",
       "      <td>1030.0</td>\n",
       "      <td>54.188350</td>\n",
       "      <td>63.997004</td>\n",
       "      <td>0.00</td>\n",
       "      <td>0.000</td>\n",
       "      <td>0.000</td>\n",
       "      <td>118.300</td>\n",
       "      <td>200.1</td>\n",
       "    </tr>\n",
       "    <tr>\n",
       "      <th>woda [kg/m3]</th>\n",
       "      <td>1030.0</td>\n",
       "      <td>181.567282</td>\n",
       "      <td>21.354219</td>\n",
       "      <td>121.80</td>\n",
       "      <td>164.900</td>\n",
       "      <td>185.000</td>\n",
       "      <td>192.000</td>\n",
       "      <td>247.0</td>\n",
       "    </tr>\n",
       "    <tr>\n",
       "      <th>superplastyfikator [kg/m3]</th>\n",
       "      <td>1030.0</td>\n",
       "      <td>6.204660</td>\n",
       "      <td>5.973841</td>\n",
       "      <td>0.00</td>\n",
       "      <td>0.000</td>\n",
       "      <td>6.400</td>\n",
       "      <td>10.200</td>\n",
       "      <td>32.2</td>\n",
       "    </tr>\n",
       "    <tr>\n",
       "      <th>kruszywo_grube [kg/m3]</th>\n",
       "      <td>1030.0</td>\n",
       "      <td>972.918932</td>\n",
       "      <td>77.753954</td>\n",
       "      <td>801.00</td>\n",
       "      <td>932.000</td>\n",
       "      <td>968.000</td>\n",
       "      <td>1029.400</td>\n",
       "      <td>1145.0</td>\n",
       "    </tr>\n",
       "    <tr>\n",
       "      <th>kruszywo_drobne [kg/m3]</th>\n",
       "      <td>1030.0</td>\n",
       "      <td>773.580485</td>\n",
       "      <td>80.175980</td>\n",
       "      <td>594.00</td>\n",
       "      <td>730.950</td>\n",
       "      <td>779.500</td>\n",
       "      <td>824.000</td>\n",
       "      <td>992.6</td>\n",
       "    </tr>\n",
       "    <tr>\n",
       "      <th>wiek [dni]</th>\n",
       "      <td>1030.0</td>\n",
       "      <td>45.662136</td>\n",
       "      <td>63.169912</td>\n",
       "      <td>1.00</td>\n",
       "      <td>7.000</td>\n",
       "      <td>28.000</td>\n",
       "      <td>56.000</td>\n",
       "      <td>365.0</td>\n",
       "    </tr>\n",
       "    <tr>\n",
       "      <th>strength</th>\n",
       "      <td>1030.0</td>\n",
       "      <td>35.817961</td>\n",
       "      <td>16.705742</td>\n",
       "      <td>2.33</td>\n",
       "      <td>23.710</td>\n",
       "      <td>34.445</td>\n",
       "      <td>46.135</td>\n",
       "      <td>82.6</td>\n",
       "    </tr>\n",
       "  </tbody>\n",
       "</table>\n",
       "</div>"
      ],
      "text/plain": [
       "                             count        mean         std     min      25%  \\\n",
       "cement [kg/m3]              1030.0  281.167864  104.506364  102.00  192.375   \n",
       "popiół_lotny [kg/m3]        1030.0   54.188350   63.997004    0.00    0.000   \n",
       "woda [kg/m3]                1030.0  181.567282   21.354219  121.80  164.900   \n",
       "superplastyfikator [kg/m3]  1030.0    6.204660    5.973841    0.00    0.000   \n",
       "kruszywo_grube [kg/m3]      1030.0  972.918932   77.753954  801.00  932.000   \n",
       "kruszywo_drobne [kg/m3]     1030.0  773.580485   80.175980  594.00  730.950   \n",
       "wiek [dni]                  1030.0   45.662136   63.169912    1.00    7.000   \n",
       "strength                    1030.0   35.817961   16.705742    2.33   23.710   \n",
       "\n",
       "                                50%       75%     max  \n",
       "cement [kg/m3]              272.900   350.000   540.0  \n",
       "popiół_lotny [kg/m3]          0.000   118.300   200.1  \n",
       "woda [kg/m3]                185.000   192.000   247.0  \n",
       "superplastyfikator [kg/m3]    6.400    10.200    32.2  \n",
       "kruszywo_grube [kg/m3]      968.000  1029.400  1145.0  \n",
       "kruszywo_drobne [kg/m3]     779.500   824.000   992.6  \n",
       "wiek [dni]                   28.000    56.000   365.0  \n",
       "strength                     34.445    46.135    82.6  "
      ]
     },
     "execution_count": 66,
     "metadata": {},
     "output_type": "execute_result"
    }
   ],
   "source": [
    "opis = beton.describe()\n",
    "opis.transpose()"
   ]
  },
  {
   "cell_type": "markdown",
   "id": "9c320e65",
   "metadata": {},
   "source": [
    "Dane nie zawierają wartości pustych. Baza danych jest spójna.\n",
    "Dodatkowo możemy wywnioskować wzrost wytrzymałości na ściskanie wraz ze wzrostem czasu dojrzewania betonu\n",
    "Przejdźmy teraz do opracowania wykresów gęstości naszych danych\n",
    "    "
   ]
  },
  {
   "cell_type": "markdown",
   "id": "02e4dd5e",
   "metadata": {},
   "source": [
    "W celu narysowania wykresu gęstości (sns.distplot) tworzę pętlę po wszystkich kolumnach obiektu dataframe (czyli naszej zmiennej beton)\n",
    "\n",
    "Dla każdej kolumny narysuj wykres gęstości oraz go pokaż."
   ]
  },
  {
   "cell_type": "code",
   "execution_count": 67,
   "id": "28f80610",
   "metadata": {},
   "outputs": [
    {
     "name": "stderr",
     "output_type": "stream",
     "text": [
      "C:\\Users\\Damian\\anaconda3\\envs\\Damian\\lib\\site-packages\\seaborn\\distributions.py:2619: FutureWarning: `distplot` is a deprecated function and will be removed in a future version. Please adapt your code to use either `displot` (a figure-level function with similar flexibility) or `histplot` (an axes-level function for histograms).\n",
      "  warnings.warn(msg, FutureWarning)\n"
     ]
    },
    {
     "data": {
      "image/png": "[encoded data removed]",
      "text/plain": [
       "<Figure size 432x288 with 1 Axes>"
      ]
     },
     "metadata": {
      "needs_background": "light"
     },
     "output_type": "display_data"
    },
    {
     "name": "stderr",
     "output_type": "stream",
     "text": [
      "C:\\Users\\Damian\\anaconda3\\envs\\Damian\\lib\\site-packages\\seaborn\\distributions.py:2619: FutureWarning: `distplot` is a deprecated function and will be removed in a future version. Please adapt your code to use either `displot` (a figure-level function with similar flexibility) or `histplot` (an axes-level function for histograms).\n",
      "  warnings.warn(msg, FutureWarning)\n"
     ]
    },
    {
     "data": {
      "image/png": "[encoded data removed]",
      "text/plain": [
       "<Figure size 432x288 with 1 Axes>"
      ]
     },
     "metadata": {
      "needs_background": "light"
     },
     "output_type": "display_data"
    },
    {
     "name": "stderr",
     "output_type": "stream",
     "text": [
      "C:\\Users\\Damian\\anaconda3\\envs\\Damian\\lib\\site-packages\\seaborn\\distributions.py:2619: FutureWarning: `distplot` is a deprecated function and will be removed in a future version. Please adapt your code to use either `displot` (a figure-level function with similar flexibility) or `histplot` (an axes-level function for histograms).\n",
      "  warnings.warn(msg, FutureWarning)\n"
     ]
    },
    {
     "data": {
      "image/png": "[encoded data removed]",
      "text/plain": [
       "<Figure size 432x288 with 1 Axes>"
      ]
     },
     "metadata": {
      "needs_background": "light"
     },
     "output_type": "display_data"
    },
    {
     "name": "stderr",
     "output_type": "stream",
     "text": [
      "C:\\Users\\Damian\\anaconda3\\envs\\Damian\\lib\\site-packages\\seaborn\\distributions.py:2619: FutureWarning: `distplot` is a deprecated function and will be removed in a future version. Please adapt your code to use either `displot` (a figure-level function with similar flexibility) or `histplot` (an axes-level function for histograms).\n",
      "  warnings.warn(msg, FutureWarning)\n"
     ]
    },
    {
     "data": {
      "image/png": "[encoded data removed]",
      "text/plain": [
       "<Figure size 432x288 with 1 Axes>"
      ]
     },
     "metadata": {
      "needs_background": "light"
     },
     "output_type": "display_data"
    },
    {
     "name": "stderr",
     "output_type": "stream",
     "text": [
      "C:\\Users\\Damian\\anaconda3\\envs\\Damian\\lib\\site-packages\\seaborn\\distributions.py:2619: FutureWarning: `distplot` is a deprecated function and will be removed in a future version. Please adapt your code to use either `displot` (a figure-level function with similar flexibility) or `histplot` (an axes-level function for histograms).\n",
      "  warnings.warn(msg, FutureWarning)\n"
     ]
    },
    {
     "data": {
      "image/png": "[encoded data removed]",
      "text/plain": [
       "<Figure size 432x288 with 1 Axes>"
      ]
     },
     "metadata": {
      "needs_background": "light"
     },
     "output_type": "display_data"
    },
    {
     "name": "stderr",
     "output_type": "stream",
     "text": [
      "C:\\Users\\Damian\\anaconda3\\envs\\Damian\\lib\\site-packages\\seaborn\\distributions.py:2619: FutureWarning: `distplot` is a deprecated function and will be removed in a future version. Please adapt your code to use either `displot` (a figure-level function with similar flexibility) or `histplot` (an axes-level function for histograms).\n",
      "  warnings.warn(msg, FutureWarning)\n"
     ]
    },
    {
     "data": {
      "image/png": "[encoded data removed]",
      "text/plain": [
       "<Figure size 432x288 with 1 Axes>"
      ]
     },
     "metadata": {
      "needs_background": "light"
     },
     "output_type": "display_data"
    },
    {
     "name": "stderr",
     "output_type": "stream",
     "text": [
      "C:\\Users\\Damian\\anaconda3\\envs\\Damian\\lib\\site-packages\\seaborn\\distributions.py:2619: FutureWarning: `distplot` is a deprecated function and will be removed in a future version. Please adapt your code to use either `displot` (a figure-level function with similar flexibility) or `histplot` (an axes-level function for histograms).\n",
      "  warnings.warn(msg, FutureWarning)\n"
     ]
    },
    {
     "data": {
      "image/png": "[encoded data removed]",
      "text/plain": [
       "<Figure size 432x288 with 1 Axes>"
      ]
     },
     "metadata": {
      "needs_background": "light"
     },
     "output_type": "display_data"
    },
    {
     "name": "stderr",
     "output_type": "stream",
     "text": [
      "C:\\Users\\Damian\\anaconda3\\envs\\Damian\\lib\\site-packages\\seaborn\\distributions.py:2619: FutureWarning: `distplot` is a deprecated function and will be removed in a future version. Please adapt your code to use either `displot` (a figure-level function with similar flexibility) or `histplot` (an axes-level function for histograms).\n",
      "  warnings.warn(msg, FutureWarning)\n"
     ]
    },
    {
     "data": {
      "image/png": "[encoded data removed]",
      "text/plain": [
       "<Figure size 432x288 with 1 Axes>"
      ]
     },
     "metadata": {
      "needs_background": "light"
     },
     "output_type": "display_data"
    },
    {
     "data": {
      "text/plain": [
       "<seaborn.axisgrid.FacetGrid at 0x1aaefeb9310>"
      ]
     },
     "execution_count": 67,
     "metadata": {},
     "output_type": "execute_result"
    },
    {
     "data": {
      "image/png": "[encoded data removed]",
      "text/plain": [
       "<Figure size 529.125x360 with 1 Axes>"
      ]
     },
     "metadata": {
      "needs_background": "light"
     },
     "output_type": "display_data"
    }
   ],
   "source": [
    "for i in beton.columns:\n",
    "    sns.distplot(beton[i])\n",
    "    plt.show()\n",
    "    \n",
    "sns.displot(beton)\n",
    "\n"
   ]
  },
  {
   "cell_type": "markdown",
   "id": "f293bc24",
   "metadata": {},
   "source": [
    "# Wartości odstające"
   ]
  },
  {
   "cell_type": "markdown",
   "id": "f963508c",
   "metadata": {},
   "source": [
    "Wartości odstające, których nie daje się wyjaśnić, są zwane wartościami odstającymi. Obserwacje te są niespójne z pozostałymi danymi szeregu i mogą drastycznie wpłynąć na analizę, a w efekcie pogorszyć możliwości prognozowania modelu.\n",
    "\n",
    "Wartości takie występują powszechnie w szczególności podczas analizy wyników wytrzymałości betonu na rozciąganie przy rozłupywaniu.\n"
   ]
  },
  {
   "cell_type": "markdown",
   "id": "38e7bd94",
   "metadata": {},
   "source": [
    "Tutaj trochę będzie pisania :)\n",
    "\n",
    "Definicje:\n",
    "\n",
    "Kwamtyl - Wartość cechy, która dzieli uporządkowaną zbiorowość statystyczną na dwie części w taki sposób, że 25% jednostek zbiorowości ma wartości cechy mniejsze lub równe wartości kwartyla pierwszego, a 75% jednostek badanej zbiorowości ma wartości cechy większe lub równe wartości kwartyla pierwszego.\n",
    "Źródło: https://stat.gov.pl/metainformacje/slownik-pojec/pojecia-stosowane-w-statystyce-publicznej/2896,pojecie.html\n",
    "\n",
    "df.iloc[:] - indeksator oparty na lokalizacji etykiety kolumn. Np beton.iloc[0:3] zwróci nam 3 pierwsze wpisy. df.iloc[:] zwraca nam wszystkie wartości czyli niejako całą tabelę\n",
    "    \n",
    "Ogólnie więc w celu policzenia roztępu międzykwantylowego czyli różnicy pomiędzy trzecim kwartylem i pierwszym kwartylem badanej cechy (ponieważ pomiędzy tymi kwartylami znajduje się 50% wszystkich obserwacji, dlatego im większa szerokość rozstępu ćwiartkowego, tym większe zróżnicowanie (miary zróżnicowania) badanej cechy statystycznej w próbie.) należy najpoerw obliczyć pierwszy kwantyl (q1) oraz trzeci kwantyl (q3)\n",
    "\n",
    "Następnie odejmujemy wartość pierwszego kwantylu (q1) od trzeciego kwantylu (q3)\n",
    "\n",
    "    \n"
   ]
  },
  {
   "cell_type": "code",
   "execution_count": 68,
   "id": "de8792a6",
   "metadata": {},
   "outputs": [
    {
     "name": "stdout",
     "output_type": "stream",
     "text": [
      "Pierwszy kwantyl\n",
      "----\n",
      "cement [kg/m3]                192.375\n",
      "popiół_lotny [kg/m3]            0.000\n",
      "woda [kg/m3]                  164.900\n",
      "superplastyfikator [kg/m3]      0.000\n",
      "kruszywo_grube [kg/m3]        932.000\n",
      "kruszywo_drobne [kg/m3]       730.950\n",
      "wiek [dni]                      7.000\n",
      "strength                       23.710\n",
      "Name: 0.25, dtype: float64\n",
      "\n",
      "Trzeci kwantyl\n",
      "----\n",
      "cement [kg/m3]                 350.000\n",
      "popiół_lotny [kg/m3]           118.300\n",
      "woda [kg/m3]                   192.000\n",
      "superplastyfikator [kg/m3]      10.200\n",
      "kruszywo_grube [kg/m3]        1029.400\n",
      "kruszywo_drobne [kg/m3]        824.000\n",
      "wiek [dni]                      56.000\n",
      "strength                        46.135\n",
      "Name: 0.75, dtype: float64\n",
      "\n",
      "Rozstęp ćwiartkowy\n",
      "----\n",
      "cement [kg/m3]                157.625\n",
      "popiół_lotny [kg/m3]          118.300\n",
      "woda [kg/m3]                   27.100\n",
      "superplastyfikator [kg/m3]     10.200\n",
      "kruszywo_grube [kg/m3]         97.400\n",
      "kruszywo_drobne [kg/m3]        93.050\n",
      "wiek [dni]                     49.000\n",
      "strength                       22.425\n",
      "dtype: float64\n"
     ]
    }
   ],
   "source": [
    "q1=beton.quantile(0.25) #Pierwszy kwantyl\n",
    "q3=beton.quantile(0.75) #Trzeci kwantyl\n",
    "IQR=q3-q1 #Rozstęp międzykwanylowy\n",
    "\n",
    "print(\"Pierwszy kwantyl\\n----\")\n",
    "print(q1)\n",
    "print(\"\\nTrzeci kwantyl\\n----\")\n",
    "print(q3)\n",
    "print(\"\\nRozstęp ćwiartkowy\\n----\")\n",
    "print(IQR)"
   ]
  },
  {
   "cell_type": "code",
   "execution_count": 69,
   "id": "765a6c27",
   "metadata": {},
   "outputs": [
    {
     "name": "stdout",
     "output_type": "stream",
     "text": [
      "\n",
      "Liczba kolumn z outlinerami\n",
      "----\n",
      "cement [kg/m3]                 0\n",
      "popiół_lotny [kg/m3]           0\n",
      "woda [kg/m3]                   9\n",
      "superplastyfikator [kg/m3]    10\n",
      "kruszywo_grube [kg/m3]         0\n",
      "kruszywo_drobne [kg/m3]        5\n",
      "wiek [dni]                    59\n",
      "strength                       4\n",
      "dtype: int64\n"
     ]
    }
   ],
   "source": [
    "cwo=((beton.iloc[:] <(q1-1.5*IQR)) | (beton.iloc[:]>(q3+1.5*IQR))).sum(axis=0) # '|' - Operator bitowy\n",
    "\n",
    "print(\"\\nLiczba kolumn z outlinerami\\n----\")\n",
    "print(cwo)"
   ]
  },
  {
   "cell_type": "markdown",
   "id": "8dc3e504",
   "metadata": {},
   "source": [
    "Tworzenie obiektu dataframe do dalszych operacji poprzez stworzenie nowego obiektu dataframe opdf i dodanie nowej kolumny z wartością procentową"
   ]
  },
  {
   "cell_type": "code",
   "execution_count": 70,
   "id": "10bbf7a1",
   "metadata": {},
   "outputs": [],
   "source": [
    "opdf=pd.DataFrame(cwo,index=beton.columns,columns=[\"Liczba wartości odstających\"])\n",
    "opdf[\"Procentowa zawartość wartości odstających w danej kolumnie\"]=round(opdf[\"Liczba wartości odstających\"]*100/len(beton),2)\n"
   ]
  },
  {
   "cell_type": "code",
   "execution_count": 71,
   "id": "23ff99ab",
   "metadata": {},
   "outputs": [
    {
     "data": {
      "text/html": [
       "<div>\n",
       "<style scoped>\n",
       "    .dataframe tbody tr th:only-of-type {\n",
       "        vertical-align: middle;\n",
       "    }\n",
       "\n",
       "    .dataframe tbody tr th {\n",
       "        vertical-align: top;\n",
       "    }\n",
       "\n",
       "    .dataframe thead th {\n",
       "        text-align: right;\n",
       "    }\n",
       "</style>\n",
       "<table border=\"1\" class=\"dataframe\">\n",
       "  <thead>\n",
       "    <tr style=\"text-align: right;\">\n",
       "      <th></th>\n",
       "      <th>Liczba wartości odstających</th>\n",
       "      <th>Procentowa zawartość wartości odstających w danej kolumnie</th>\n",
       "    </tr>\n",
       "  </thead>\n",
       "  <tbody>\n",
       "    <tr>\n",
       "      <th>cement [kg/m3]</th>\n",
       "      <td>0</td>\n",
       "      <td>0.00</td>\n",
       "    </tr>\n",
       "    <tr>\n",
       "      <th>popiół_lotny [kg/m3]</th>\n",
       "      <td>0</td>\n",
       "      <td>0.00</td>\n",
       "    </tr>\n",
       "    <tr>\n",
       "      <th>woda [kg/m3]</th>\n",
       "      <td>9</td>\n",
       "      <td>0.87</td>\n",
       "    </tr>\n",
       "    <tr>\n",
       "      <th>superplastyfikator [kg/m3]</th>\n",
       "      <td>10</td>\n",
       "      <td>0.97</td>\n",
       "    </tr>\n",
       "    <tr>\n",
       "      <th>kruszywo_grube [kg/m3]</th>\n",
       "      <td>0</td>\n",
       "      <td>0.00</td>\n",
       "    </tr>\n",
       "    <tr>\n",
       "      <th>kruszywo_drobne [kg/m3]</th>\n",
       "      <td>5</td>\n",
       "      <td>0.49</td>\n",
       "    </tr>\n",
       "    <tr>\n",
       "      <th>wiek [dni]</th>\n",
       "      <td>59</td>\n",
       "      <td>5.73</td>\n",
       "    </tr>\n",
       "    <tr>\n",
       "      <th>strength</th>\n",
       "      <td>4</td>\n",
       "      <td>0.39</td>\n",
       "    </tr>\n",
       "  </tbody>\n",
       "</table>\n",
       "</div>"
      ],
      "text/plain": [
       "                            Liczba wartości odstających  \\\n",
       "cement [kg/m3]                                        0   \n",
       "popiół_lotny [kg/m3]                                  0   \n",
       "woda [kg/m3]                                          9   \n",
       "superplastyfikator [kg/m3]                           10   \n",
       "kruszywo_grube [kg/m3]                                0   \n",
       "kruszywo_drobne [kg/m3]                               5   \n",
       "wiek [dni]                                           59   \n",
       "strength                                              4   \n",
       "\n",
       "                            Procentowa zawartość wartości odstających w danej kolumnie  \n",
       "cement [kg/m3]                                                           0.00           \n",
       "popiół_lotny [kg/m3]                                                     0.00           \n",
       "woda [kg/m3]                                                             0.87           \n",
       "superplastyfikator [kg/m3]                                               0.97           \n",
       "kruszywo_grube [kg/m3]                                                   0.00           \n",
       "kruszywo_drobne [kg/m3]                                                  0.49           \n",
       "wiek [dni]                                                               5.73           \n",
       "strength                                                                 0.39           "
      ]
     },
     "execution_count": 71,
     "metadata": {},
     "output_type": "execute_result"
    }
   ],
   "source": [
    "opdf"
   ]
  },
  {
   "cell_type": "markdown",
   "id": "f25056fc",
   "metadata": {},
   "source": [
    "W tym kroku robimy funkcję która zwraca nam 1 jeżeli dana wartość jest w poza kwantylem a 0 jeżeli się mieści w przedziale"
   ]
  },
  {
   "cell_type": "code",
   "execution_count": 72,
   "id": "5e7a9843",
   "metadata": {},
   "outputs": [
    {
     "data": {
      "text/plain": [
       "0       0\n",
       "1       0\n",
       "2       0\n",
       "3       0\n",
       "4       0\n",
       "       ..\n",
       "1025    0\n",
       "1026    1\n",
       "1027    0\n",
       "1028    1\n",
       "1029    0\n",
       "Length: 1030, dtype: int64"
      ]
     },
     "execution_count": 72,
     "metadata": {},
     "output_type": "execute_result"
    }
   ],
   "source": [
    "rwo=(((beton[:]<(q1-1.5*IQR))|(beton[:]>(q3+1.5*IQR))).sum(axis=1))\n",
    "rwo"
   ]
  },
  {
   "cell_type": "markdown",
   "id": "23ac26d1",
   "metadata": {},
   "source": [
    "Teraz wyprintujemy ilość wartości odstających"
   ]
  },
  {
   "cell_type": "code",
   "execution_count": 73,
   "id": "c25831dd",
   "metadata": {},
   "outputs": [
    {
     "name": "stdout",
     "output_type": "stream",
     "text": [
      "87\n"
     ]
    }
   ],
   "source": [
    "print(rwo.sum())"
   ]
  },
  {
   "cell_type": "markdown",
   "id": "4cfb2d66",
   "metadata": {},
   "source": [
    "Teraz liczymy jaki procent jest w danych wierszach odstających wartości. "
   ]
  },
  {
   "cell_type": "code",
   "execution_count": 74,
   "id": "e1018cc0",
   "metadata": {},
   "outputs": [
    {
     "data": {
      "text/html": [
       "<div>\n",
       "<style scoped>\n",
       "    .dataframe tbody tr th:only-of-type {\n",
       "        vertical-align: middle;\n",
       "    }\n",
       "\n",
       "    .dataframe tbody tr th {\n",
       "        vertical-align: top;\n",
       "    }\n",
       "\n",
       "    .dataframe thead th {\n",
       "        text-align: right;\n",
       "    }\n",
       "</style>\n",
       "<table border=\"1\" class=\"dataframe\">\n",
       "  <thead>\n",
       "    <tr style=\"text-align: right;\">\n",
       "      <th></th>\n",
       "      <th>% Data</th>\n",
       "    </tr>\n",
       "    <tr>\n",
       "      <th>% Wartości odstających w danym wierszu</th>\n",
       "      <th></th>\n",
       "    </tr>\n",
       "  </thead>\n",
       "  <tbody>\n",
       "    <tr>\n",
       "      <th>5%</th>\n",
       "      <td>91.55</td>\n",
       "    </tr>\n",
       "    <tr>\n",
       "      <th>10%</th>\n",
       "      <td>91.55</td>\n",
       "    </tr>\n",
       "    <tr>\n",
       "      <th>15%</th>\n",
       "      <td>100.00</td>\n",
       "    </tr>\n",
       "    <tr>\n",
       "      <th>20%</th>\n",
       "      <td>100.00</td>\n",
       "    </tr>\n",
       "    <tr>\n",
       "      <th>25%</th>\n",
       "      <td>100.00</td>\n",
       "    </tr>\n",
       "    <tr>\n",
       "      <th>30%</th>\n",
       "      <td>100.00</td>\n",
       "    </tr>\n",
       "    <tr>\n",
       "      <th>35%</th>\n",
       "      <td>100.00</td>\n",
       "    </tr>\n",
       "    <tr>\n",
       "      <th>40%</th>\n",
       "      <td>100.00</td>\n",
       "    </tr>\n",
       "    <tr>\n",
       "      <th>45%</th>\n",
       "      <td>100.00</td>\n",
       "    </tr>\n",
       "    <tr>\n",
       "      <th>50%</th>\n",
       "      <td>100.00</td>\n",
       "    </tr>\n",
       "    <tr>\n",
       "      <th>55%</th>\n",
       "      <td>100.00</td>\n",
       "    </tr>\n",
       "    <tr>\n",
       "      <th>60%</th>\n",
       "      <td>100.00</td>\n",
       "    </tr>\n",
       "  </tbody>\n",
       "</table>\n",
       "</div>"
      ],
      "text/plain": [
       "                                        % Data\n",
       "% Wartości odstających w danym wierszu        \n",
       "5%                                       91.55\n",
       "10%                                      91.55\n",
       "15%                                     100.00\n",
       "20%                                     100.00\n",
       "25%                                     100.00\n",
       "30%                                     100.00\n",
       "35%                                     100.00\n",
       "40%                                     100.00\n",
       "45%                                     100.00\n",
       "50%                                     100.00\n",
       "55%                                     100.00\n",
       "60%                                     100.00"
      ]
     },
     "execution_count": 74,
     "metadata": {},
     "output_type": "execute_result"
    }
   ],
   "source": [
    "ro005=(((rwo/len(beton.columns))<0.05).sum())*100/len(beton)\n",
    "ro01=(((rwo/len(beton.columns))<0.1).sum())*100/len(beton)\n",
    "ro015=(((rwo/len(beton.columns))<0.15).sum())*100/len(beton)\n",
    "ro02=(((rwo/len(beton.columns))<0.2).sum())*100/len(beton)\n",
    "ro025=(((rwo/len(beton.columns))<0.25).sum())*100/len(beton)\n",
    "ro03=(((rwo/len(beton.columns))<0.30).sum())*100/len(beton)\n",
    "ro035=(((rwo/len(beton.columns))<=0.35).sum())*100/len(beton)\n",
    "ro04=(((rwo/len(beton.columns))<=0.4).sum())*100/len(beton)\n",
    "ro045=(((rwo/len(beton.columns))<=0.45).sum())*100/len(beton)\n",
    "ro05=(((rwo/len(beton.columns))<=0.50).sum())*100/len(beton)\n",
    "ro055=(((rwo/len(beton.columns))<0.55).sum())*100/len(beton)\n",
    "ro06=(((rwo/len(beton.columns))<0.6+0).sum())*100/len(beton)\n",
    "ro=pd.DataFrame(np.round([ro005,ro01,ro015,ro02,ro025,ro03,ro035,ro04,ro045,ro05,ro055,ro06],2),\n",
    "             index=['5%','10%','15%','20%','25%','30%','35%','40%','45%','50%','55%','60%'],\n",
    "            columns=['% Data'])\n",
    "ro.index.name='% Wartości odstających w danym wierszu'\n",
    "\n",
    "ro"
   ]
  },
  {
   "cell_type": "markdown",
   "id": "347ef9cd",
   "metadata": {},
   "source": [
    "W każdym wierszu nie występuje więcej niż 10% wartości odstających. W związku z tym nieliczne wartości odstające zostaną potraktowane przy użyciu metody MICE (Multiple Imputation using Chained Equations) po przekształceniu tych wartości odstających na wartości NaN."
   ]
  },
  {
   "cell_type": "code",
   "execution_count": 75,
   "id": "4bbe90c5",
   "metadata": {},
   "outputs": [],
   "source": [
    "from sklearn.experimental import enable_iterative_imputer\n",
    "from sklearn.impute import IterativeImputer"
   ]
  },
  {
   "cell_type": "code",
   "execution_count": 76,
   "id": "ba824014",
   "metadata": {},
   "outputs": [],
   "source": [
    "imp = IterativeImputer()\n",
    "imp.fit(beton)\n",
    "beton=pd.DataFrame(imp.transform(beton),columns=beton.columns)"
   ]
  },
  {
   "cell_type": "markdown",
   "id": "25e34ec3",
   "metadata": {},
   "source": [
    "Można więc zauważyć, że wszystkie wartości odstające zostały usunięte poprzez przekształcenie ich na wartości NaN i imputację przy użyciu MICE."
   ]
  },
  {
   "cell_type": "code",
   "execution_count": 77,
   "id": "b46e5349",
   "metadata": {},
   "outputs": [
    {
     "data": {
      "text/plain": [
       "cement [kg/m3]                0\n",
       "popiół_lotny [kg/m3]          0\n",
       "woda [kg/m3]                  0\n",
       "superplastyfikator [kg/m3]    0\n",
       "kruszywo_grube [kg/m3]        0\n",
       "kruszywo_drobne [kg/m3]       0\n",
       "wiek [dni]                    0\n",
       "strength                      0\n",
       "dtype: int64"
      ]
     },
     "execution_count": 77,
     "metadata": {},
     "output_type": "execute_result"
    }
   ],
   "source": [
    "beton.isnull().sum()"
   ]
  },
  {
   "cell_type": "code",
   "execution_count": 78,
   "id": "41e9d2ad",
   "metadata": {},
   "outputs": [
    {
     "data": {
      "text/html": [
       "<div>\n",
       "<style scoped>\n",
       "    .dataframe tbody tr th:only-of-type {\n",
       "        vertical-align: middle;\n",
       "    }\n",
       "\n",
       "    .dataframe tbody tr th {\n",
       "        vertical-align: top;\n",
       "    }\n",
       "\n",
       "    .dataframe thead th {\n",
       "        text-align: right;\n",
       "    }\n",
       "</style>\n",
       "<table border=\"1\" class=\"dataframe\">\n",
       "  <thead>\n",
       "    <tr style=\"text-align: right;\">\n",
       "      <th></th>\n",
       "      <th>wytrzymałość_na_ściskanie [MPa]</th>\n",
       "    </tr>\n",
       "  </thead>\n",
       "  <tbody>\n",
       "    <tr>\n",
       "      <th>0</th>\n",
       "      <td>9.0</td>\n",
       "    </tr>\n",
       "    <tr>\n",
       "      <th>1</th>\n",
       "      <td>10.0</td>\n",
       "    </tr>\n",
       "    <tr>\n",
       "      <th>2</th>\n",
       "      <td>11.0</td>\n",
       "    </tr>\n",
       "    <tr>\n",
       "      <th>3</th>\n",
       "      <td>12.0</td>\n",
       "    </tr>\n",
       "    <tr>\n",
       "      <th>4</th>\n",
       "      <td>13.0</td>\n",
       "    </tr>\n",
       "    <tr>\n",
       "      <th>...</th>\n",
       "      <td>...</td>\n",
       "    </tr>\n",
       "    <tr>\n",
       "      <th>62</th>\n",
       "      <td>75.0</td>\n",
       "    </tr>\n",
       "    <tr>\n",
       "      <th>63</th>\n",
       "      <td>76.0</td>\n",
       "    </tr>\n",
       "    <tr>\n",
       "      <th>64</th>\n",
       "      <td>79.0</td>\n",
       "    </tr>\n",
       "    <tr>\n",
       "      <th>65</th>\n",
       "      <td>80.0</td>\n",
       "    </tr>\n",
       "    <tr>\n",
       "      <th>66</th>\n",
       "      <td>82.0</td>\n",
       "    </tr>\n",
       "  </tbody>\n",
       "</table>\n",
       "<p>67 rows × 1 columns</p>\n",
       "</div>"
      ],
      "text/plain": [
       "    wytrzymałość_na_ściskanie [MPa]\n",
       "0                               9.0\n",
       "1                              10.0\n",
       "2                              11.0\n",
       "3                              12.0\n",
       "4                              13.0\n",
       "..                              ...\n",
       "62                             75.0\n",
       "63                             76.0\n",
       "64                             79.0\n",
       "65                             80.0\n",
       "66                             82.0\n",
       "\n",
       "[67 rows x 1 columns]"
      ]
     },
     "execution_count": 78,
     "metadata": {},
     "output_type": "execute_result"
    }
   ],
   "source": [
    "g=beton.groupby(\"wiek [dni]\")\n",
    "g1=g.get_group(1)\n",
    "g3=g.get_group(3)\n",
    "g7=g.get_group(7)\n",
    "g14=g.get_group(14)\n",
    "g28=g.get_group(28)\n",
    "pd.DataFrame(round(g28.iloc[:,-1].sort_values()).unique(),columns=[\"wytrzymałość_na_ściskanie [MPa]\"])"
   ]
  },
  {
   "cell_type": "code",
   "execution_count": 79,
   "id": "1962d2e0",
   "metadata": {},
   "outputs": [
    {
     "data": {
      "text/html": [
       "<div>\n",
       "<style scoped>\n",
       "    .dataframe tbody tr th:only-of-type {\n",
       "        vertical-align: middle;\n",
       "    }\n",
       "\n",
       "    .dataframe tbody tr th {\n",
       "        vertical-align: top;\n",
       "    }\n",
       "\n",
       "    .dataframe thead th {\n",
       "        text-align: right;\n",
       "    }\n",
       "</style>\n",
       "<table border=\"1\" class=\"dataframe\">\n",
       "  <thead>\n",
       "    <tr style=\"text-align: right;\">\n",
       "      <th></th>\n",
       "      <th>cement [kg/m3]</th>\n",
       "      <th>popiół_lotny [kg/m3]</th>\n",
       "      <th>woda [kg/m3]</th>\n",
       "      <th>superplastyfikator [kg/m3]</th>\n",
       "      <th>kruszywo_grube [kg/m3]</th>\n",
       "      <th>kruszywo_drobne [kg/m3]</th>\n",
       "      <th>wiek [dni]</th>\n",
       "      <th>strength</th>\n",
       "    </tr>\n",
       "  </thead>\n",
       "  <tbody>\n",
       "    <tr>\n",
       "      <th>cement [kg/m3]</th>\n",
       "      <td>1.000000</td>\n",
       "      <td>-0.397467</td>\n",
       "      <td>-0.081587</td>\n",
       "      <td>0.092386</td>\n",
       "      <td>-0.109349</td>\n",
       "      <td>-0.222718</td>\n",
       "      <td>0.081946</td>\n",
       "      <td>0.497832</td>\n",
       "    </tr>\n",
       "    <tr>\n",
       "      <th>popiół_lotny [kg/m3]</th>\n",
       "      <td>-0.397467</td>\n",
       "      <td>1.000000</td>\n",
       "      <td>-0.256984</td>\n",
       "      <td>0.377503</td>\n",
       "      <td>-0.009961</td>\n",
       "      <td>0.079108</td>\n",
       "      <td>-0.154371</td>\n",
       "      <td>-0.105755</td>\n",
       "    </tr>\n",
       "    <tr>\n",
       "      <th>woda [kg/m3]</th>\n",
       "      <td>-0.081587</td>\n",
       "      <td>-0.256984</td>\n",
       "      <td>1.000000</td>\n",
       "      <td>-0.657533</td>\n",
       "      <td>-0.182294</td>\n",
       "      <td>-0.450661</td>\n",
       "      <td>0.277618</td>\n",
       "      <td>-0.289633</td>\n",
       "    </tr>\n",
       "    <tr>\n",
       "      <th>superplastyfikator [kg/m3]</th>\n",
       "      <td>0.092386</td>\n",
       "      <td>0.377503</td>\n",
       "      <td>-0.657533</td>\n",
       "      <td>1.000000</td>\n",
       "      <td>-0.265999</td>\n",
       "      <td>0.222691</td>\n",
       "      <td>-0.192700</td>\n",
       "      <td>0.366079</td>\n",
       "    </tr>\n",
       "    <tr>\n",
       "      <th>kruszywo_grube [kg/m3]</th>\n",
       "      <td>-0.109349</td>\n",
       "      <td>-0.009961</td>\n",
       "      <td>-0.182294</td>\n",
       "      <td>-0.265999</td>\n",
       "      <td>1.000000</td>\n",
       "      <td>-0.178481</td>\n",
       "      <td>-0.003016</td>\n",
       "      <td>-0.164935</td>\n",
       "    </tr>\n",
       "    <tr>\n",
       "      <th>kruszywo_drobne [kg/m3]</th>\n",
       "      <td>-0.222718</td>\n",
       "      <td>0.079108</td>\n",
       "      <td>-0.450661</td>\n",
       "      <td>0.222691</td>\n",
       "      <td>-0.178481</td>\n",
       "      <td>1.000000</td>\n",
       "      <td>-0.156095</td>\n",
       "      <td>-0.167241</td>\n",
       "    </tr>\n",
       "    <tr>\n",
       "      <th>wiek [dni]</th>\n",
       "      <td>0.081946</td>\n",
       "      <td>-0.154371</td>\n",
       "      <td>0.277618</td>\n",
       "      <td>-0.192700</td>\n",
       "      <td>-0.003016</td>\n",
       "      <td>-0.156095</td>\n",
       "      <td>1.000000</td>\n",
       "      <td>0.328873</td>\n",
       "    </tr>\n",
       "    <tr>\n",
       "      <th>strength</th>\n",
       "      <td>0.497832</td>\n",
       "      <td>-0.105755</td>\n",
       "      <td>-0.289633</td>\n",
       "      <td>0.366079</td>\n",
       "      <td>-0.164935</td>\n",
       "      <td>-0.167241</td>\n",
       "      <td>0.328873</td>\n",
       "      <td>1.000000</td>\n",
       "    </tr>\n",
       "  </tbody>\n",
       "</table>\n",
       "</div>"
      ],
      "text/plain": [
       "                            cement [kg/m3]  popiół_lotny [kg/m3]  \\\n",
       "cement [kg/m3]                    1.000000             -0.397467   \n",
       "popiół_lotny [kg/m3]             -0.397467              1.000000   \n",
       "woda [kg/m3]                     -0.081587             -0.256984   \n",
       "superplastyfikator [kg/m3]        0.092386              0.377503   \n",
       "kruszywo_grube [kg/m3]           -0.109349             -0.009961   \n",
       "kruszywo_drobne [kg/m3]          -0.222718              0.079108   \n",
       "wiek [dni]                        0.081946             -0.154371   \n",
       "strength                          0.497832             -0.105755   \n",
       "\n",
       "                            woda [kg/m3]  superplastyfikator [kg/m3]  \\\n",
       "cement [kg/m3]                 -0.081587                    0.092386   \n",
       "popiół_lotny [kg/m3]           -0.256984                    0.377503   \n",
       "woda [kg/m3]                    1.000000                   -0.657533   \n",
       "superplastyfikator [kg/m3]     -0.657533                    1.000000   \n",
       "kruszywo_grube [kg/m3]         -0.182294                   -0.265999   \n",
       "kruszywo_drobne [kg/m3]        -0.450661                    0.222691   \n",
       "wiek [dni]                      0.277618                   -0.192700   \n",
       "strength                       -0.289633                    0.366079   \n",
       "\n",
       "                            kruszywo_grube [kg/m3]  kruszywo_drobne [kg/m3]  \\\n",
       "cement [kg/m3]                           -0.109349                -0.222718   \n",
       "popiół_lotny [kg/m3]                     -0.009961                 0.079108   \n",
       "woda [kg/m3]                             -0.182294                -0.450661   \n",
       "superplastyfikator [kg/m3]               -0.265999                 0.222691   \n",
       "kruszywo_grube [kg/m3]                    1.000000                -0.178481   \n",
       "kruszywo_drobne [kg/m3]                  -0.178481                 1.000000   \n",
       "wiek [dni]                               -0.003016                -0.156095   \n",
       "strength                                 -0.164935                -0.167241   \n",
       "\n",
       "                            wiek [dni]  strength  \n",
       "cement [kg/m3]                0.081946  0.497832  \n",
       "popiół_lotny [kg/m3]         -0.154371 -0.105755  \n",
       "woda [kg/m3]                  0.277618 -0.289633  \n",
       "superplastyfikator [kg/m3]   -0.192700  0.366079  \n",
       "kruszywo_grube [kg/m3]       -0.003016 -0.164935  \n",
       "kruszywo_drobne [kg/m3]      -0.156095 -0.167241  \n",
       "wiek [dni]                    1.000000  0.328873  \n",
       "strength                      0.328873  1.000000  "
      ]
     },
     "execution_count": 79,
     "metadata": {},
     "output_type": "execute_result"
    }
   ],
   "source": [
    "beton.corr()"
   ]
  },
  {
   "cell_type": "code",
   "execution_count": 80,
   "id": "07b86a43",
   "metadata": {},
   "outputs": [
    {
     "data": {
      "image/png": "[encoded data removed]",
      "text/plain": [
       "<Figure size 720x576 with 2 Axes>"
      ]
     },
     "metadata": {
      "needs_background": "light"
     },
     "output_type": "display_data"
    }
   ],
   "source": [
    "cp = beton.corr()\n",
    "mask = np.zeros_like(cp)\n",
    "mask[np.triu_indices_from(mask)] = True\n",
    "plt.figure(figsize=(10,8))\n",
    "with sns.axes_style(\"white\"):\n",
    "    sns.heatmap(cp,annot=True,linewidth=2,mask = mask,cmap=\"coolwarm\")\n",
    "plt.title(\"Wykres korelacji cech w mieszance betonowej\")\n",
    "plt.show()"
   ]
  },
  {
   "cell_type": "markdown",
   "id": "98f4e275",
   "metadata": {},
   "source": [
    "Z powyższego wykresu możemy wywnioskować dodatnią korelację pomiędzy wytrzymałością na ściskanie a zawartością cementu, superplastyfikatora.\n",
    "\n",
    "Dodatkowo możemy zaobserować spadek ilości wody przy zastosowaniu superplastyfikatora co potwierdza prawidłowość naszych danych.\n",
    "\n",
    "Nie mniej jednak żadna z cech nie jest silnie skorelowana ani skorelowana ze zmienną docelową (0,7<|r|≤0,9)\n"
   ]
  },
  {
   "cell_type": "markdown",
   "id": "0677eb00",
   "metadata": {},
   "source": [
    "# Regresja liniowa"
   ]
  },
  {
   "cell_type": "code",
   "execution_count": 81,
   "id": "54ab5033",
   "metadata": {},
   "outputs": [],
   "source": [
    "import statsmodels.api as sm\n",
    "col = int(len(beton.columns))\n",
    "col -= 1"
   ]
  },
  {
   "cell_type": "markdown",
   "id": "3b3965fc",
   "metadata": {},
   "source": [
    "Przygotowanie danych. W pierwszej kolejności należy przygotować dane na podstawie których będziemy przewidywać wytrzymałość betonu na ściskanie. "
   ]
  },
  {
   "cell_type": "code",
   "execution_count": 82,
   "id": "051935cd",
   "metadata": {},
   "outputs": [
    {
     "data": {
      "text/html": [
       "<div>\n",
       "<style scoped>\n",
       "    .dataframe tbody tr th:only-of-type {\n",
       "        vertical-align: middle;\n",
       "    }\n",
       "\n",
       "    .dataframe tbody tr th {\n",
       "        vertical-align: top;\n",
       "    }\n",
       "\n",
       "    .dataframe thead th {\n",
       "        text-align: right;\n",
       "    }\n",
       "</style>\n",
       "<table border=\"1\" class=\"dataframe\">\n",
       "  <thead>\n",
       "    <tr style=\"text-align: right;\">\n",
       "      <th></th>\n",
       "      <th>cement [kg/m3]</th>\n",
       "      <th>popiół_lotny [kg/m3]</th>\n",
       "      <th>woda [kg/m3]</th>\n",
       "      <th>superplastyfikator [kg/m3]</th>\n",
       "      <th>kruszywo_grube [kg/m3]</th>\n",
       "      <th>kruszywo_drobne [kg/m3]</th>\n",
       "      <th>wiek [dni]</th>\n",
       "    </tr>\n",
       "  </thead>\n",
       "  <tbody>\n",
       "    <tr>\n",
       "      <th>0</th>\n",
       "      <td>141.3</td>\n",
       "      <td>0.0</td>\n",
       "      <td>203.5</td>\n",
       "      <td>0.0</td>\n",
       "      <td>971.8</td>\n",
       "      <td>748.5</td>\n",
       "      <td>28.0</td>\n",
       "    </tr>\n",
       "    <tr>\n",
       "      <th>1</th>\n",
       "      <td>168.9</td>\n",
       "      <td>124.3</td>\n",
       "      <td>158.3</td>\n",
       "      <td>10.8</td>\n",
       "      <td>1080.8</td>\n",
       "      <td>796.2</td>\n",
       "      <td>14.0</td>\n",
       "    </tr>\n",
       "    <tr>\n",
       "      <th>2</th>\n",
       "      <td>250.0</td>\n",
       "      <td>95.7</td>\n",
       "      <td>187.4</td>\n",
       "      <td>5.5</td>\n",
       "      <td>956.9</td>\n",
       "      <td>861.2</td>\n",
       "      <td>28.0</td>\n",
       "    </tr>\n",
       "    <tr>\n",
       "      <th>3</th>\n",
       "      <td>266.0</td>\n",
       "      <td>0.0</td>\n",
       "      <td>228.0</td>\n",
       "      <td>0.0</td>\n",
       "      <td>932.0</td>\n",
       "      <td>670.0</td>\n",
       "      <td>28.0</td>\n",
       "    </tr>\n",
       "    <tr>\n",
       "      <th>4</th>\n",
       "      <td>154.8</td>\n",
       "      <td>0.0</td>\n",
       "      <td>193.3</td>\n",
       "      <td>9.1</td>\n",
       "      <td>1047.4</td>\n",
       "      <td>696.7</td>\n",
       "      <td>28.0</td>\n",
       "    </tr>\n",
       "    <tr>\n",
       "      <th>...</th>\n",
       "      <td>...</td>\n",
       "      <td>...</td>\n",
       "      <td>...</td>\n",
       "      <td>...</td>\n",
       "      <td>...</td>\n",
       "      <td>...</td>\n",
       "      <td>...</td>\n",
       "    </tr>\n",
       "    <tr>\n",
       "      <th>1025</th>\n",
       "      <td>135.0</td>\n",
       "      <td>166.0</td>\n",
       "      <td>180.0</td>\n",
       "      <td>10.0</td>\n",
       "      <td>961.0</td>\n",
       "      <td>805.0</td>\n",
       "      <td>28.0</td>\n",
       "    </tr>\n",
       "    <tr>\n",
       "      <th>1026</th>\n",
       "      <td>531.3</td>\n",
       "      <td>0.0</td>\n",
       "      <td>141.8</td>\n",
       "      <td>28.2</td>\n",
       "      <td>852.1</td>\n",
       "      <td>893.7</td>\n",
       "      <td>3.0</td>\n",
       "    </tr>\n",
       "    <tr>\n",
       "      <th>1027</th>\n",
       "      <td>276.4</td>\n",
       "      <td>90.3</td>\n",
       "      <td>179.6</td>\n",
       "      <td>8.9</td>\n",
       "      <td>870.1</td>\n",
       "      <td>768.3</td>\n",
       "      <td>28.0</td>\n",
       "    </tr>\n",
       "    <tr>\n",
       "      <th>1028</th>\n",
       "      <td>342.0</td>\n",
       "      <td>0.0</td>\n",
       "      <td>228.0</td>\n",
       "      <td>0.0</td>\n",
       "      <td>932.0</td>\n",
       "      <td>670.0</td>\n",
       "      <td>270.0</td>\n",
       "    </tr>\n",
       "    <tr>\n",
       "      <th>1029</th>\n",
       "      <td>540.0</td>\n",
       "      <td>0.0</td>\n",
       "      <td>173.0</td>\n",
       "      <td>0.0</td>\n",
       "      <td>1125.0</td>\n",
       "      <td>613.0</td>\n",
       "      <td>7.0</td>\n",
       "    </tr>\n",
       "  </tbody>\n",
       "</table>\n",
       "<p>1030 rows × 7 columns</p>\n",
       "</div>"
      ],
      "text/plain": [
       "      cement [kg/m3]  popiół_lotny [kg/m3]  woda [kg/m3]  \\\n",
       "0              141.3                   0.0         203.5   \n",
       "1              168.9                 124.3         158.3   \n",
       "2              250.0                  95.7         187.4   \n",
       "3              266.0                   0.0         228.0   \n",
       "4              154.8                   0.0         193.3   \n",
       "...              ...                   ...           ...   \n",
       "1025           135.0                 166.0         180.0   \n",
       "1026           531.3                   0.0         141.8   \n",
       "1027           276.4                  90.3         179.6   \n",
       "1028           342.0                   0.0         228.0   \n",
       "1029           540.0                   0.0         173.0   \n",
       "\n",
       "      superplastyfikator [kg/m3]  kruszywo_grube [kg/m3]  \\\n",
       "0                            0.0                   971.8   \n",
       "1                           10.8                  1080.8   \n",
       "2                            5.5                   956.9   \n",
       "3                            0.0                   932.0   \n",
       "4                            9.1                  1047.4   \n",
       "...                          ...                     ...   \n",
       "1025                        10.0                   961.0   \n",
       "1026                        28.2                   852.1   \n",
       "1027                         8.9                   870.1   \n",
       "1028                         0.0                   932.0   \n",
       "1029                         0.0                  1125.0   \n",
       "\n",
       "      kruszywo_drobne [kg/m3]  wiek [dni]  \n",
       "0                       748.5        28.0  \n",
       "1                       796.2        14.0  \n",
       "2                       861.2        28.0  \n",
       "3                       670.0        28.0  \n",
       "4                       696.7        28.0  \n",
       "...                       ...         ...  \n",
       "1025                    805.0        28.0  \n",
       "1026                    893.7         3.0  \n",
       "1027                    768.3        28.0  \n",
       "1028                    670.0       270.0  \n",
       "1029                    613.0         7.0  \n",
       "\n",
       "[1030 rows x 7 columns]"
      ]
     },
     "execution_count": 82,
     "metadata": {},
     "output_type": "execute_result"
    }
   ],
   "source": [
    "X=beton.iloc[:,:col] #Zwracam zakres kolumn w obiekcie DataFrame czyli od 1 kolumny do 7 (Do wieku. Ostatnią przewiduję)\n",
    "X"
   ]
  },
  {
   "cell_type": "markdown",
   "id": "ebe7ac5a",
   "metadata": {},
   "source": [
    "Przygotowanie danych. W następnej kolejności należy przygotować dane które będziemy przewidywać. "
   ]
  },
  {
   "cell_type": "code",
   "execution_count": 83,
   "id": "81c4cda9",
   "metadata": {},
   "outputs": [
    {
     "data": {
      "text/plain": [
       "0       29.89\n",
       "1       23.51\n",
       "2       29.22\n",
       "3       45.85\n",
       "4       18.29\n",
       "        ...  \n",
       "1025    13.29\n",
       "1026    41.30\n",
       "1027    44.28\n",
       "1028    55.06\n",
       "1029    52.61\n",
       "Name: strength, Length: 1030, dtype: float64"
      ]
     },
     "execution_count": 83,
     "metadata": {},
     "output_type": "execute_result"
    }
   ],
   "source": [
    "Y=beton.iloc[:,col] #Zwracam jedną kolumne (1 wymiar) dla danych które chcę przewidywać czyli ostatnią kolumnę\n",
    "Y"
   ]
  },
  {
   "cell_type": "code",
   "execution_count": 84,
   "id": "a77ea210",
   "metadata": {},
   "outputs": [
    {
     "data": {
      "text/html": [
       "<table class=\"simpletable\">\n",
       "<caption>OLS Regression Results</caption>\n",
       "<tr>\n",
       "  <th>Dep. Variable:</th>        <td>strength</td>     <th>  R-squared:         </th> <td>   0.576</td> \n",
       "</tr>\n",
       "<tr>\n",
       "  <th>Model:</th>                   <td>OLS</td>       <th>  Adj. R-squared:    </th> <td>   0.573</td> \n",
       "</tr>\n",
       "<tr>\n",
       "  <th>Method:</th>             <td>Least Squares</td>  <th>  F-statistic:       </th> <td>   198.3</td> \n",
       "</tr>\n",
       "<tr>\n",
       "  <th>Date:</th>             <td>Fri, 18 Mar 2022</td> <th>  Prob (F-statistic):</th> <td>1.79e-185</td>\n",
       "</tr>\n",
       "<tr>\n",
       "  <th>Time:</th>                 <td>09:47:56</td>     <th>  Log-Likelihood:    </th> <td> -3919.4</td> \n",
       "</tr>\n",
       "<tr>\n",
       "  <th>No. Observations:</th>      <td>  1030</td>      <th>  AIC:               </th> <td>   7855.</td> \n",
       "</tr>\n",
       "<tr>\n",
       "  <th>Df Residuals:</th>          <td>  1022</td>      <th>  BIC:               </th> <td>   7894.</td> \n",
       "</tr>\n",
       "<tr>\n",
       "  <th>Df Model:</th>              <td>     7</td>      <th>                     </th>     <td> </td>    \n",
       "</tr>\n",
       "<tr>\n",
       "  <th>Covariance Type:</th>      <td>nonrobust</td>    <th>                     </th>     <td> </td>    \n",
       "</tr>\n",
       "</table>\n",
       "<table class=\"simpletable\">\n",
       "<tr>\n",
       "               <td></td>                 <th>coef</th>     <th>std err</th>      <th>t</th>      <th>P>|t|</th>  <th>[0.025</th>    <th>0.975]</th>  \n",
       "</tr>\n",
       "<tr>\n",
       "  <th>const</th>                      <td>  210.4226</td> <td>   14.333</td> <td>   14.681</td> <td> 0.000</td> <td>  182.298</td> <td>  238.547</td>\n",
       "</tr>\n",
       "<tr>\n",
       "  <th>cement [kg/m3]</th>             <td>    0.0424</td> <td>    0.004</td> <td>   10.420</td> <td> 0.000</td> <td>    0.034</td> <td>    0.050</td>\n",
       "</tr>\n",
       "<tr>\n",
       "  <th>popiół_lotny [kg/m3]</th>       <td>   -0.0237</td> <td>    0.007</td> <td>   -3.583</td> <td> 0.000</td> <td>   -0.037</td> <td>   -0.011</td>\n",
       "</tr>\n",
       "<tr>\n",
       "  <th>woda [kg/m3]</th>               <td>   -0.4287</td> <td>    0.031</td> <td>  -13.811</td> <td> 0.000</td> <td>   -0.490</td> <td>   -0.368</td>\n",
       "</tr>\n",
       "<tr>\n",
       "  <th>superplastyfikator [kg/m3]</th> <td>    0.2824</td> <td>    0.098</td> <td>    2.880</td> <td> 0.004</td> <td>    0.090</td> <td>    0.475</td>\n",
       "</tr>\n",
       "<tr>\n",
       "  <th>kruszywo_grube [kg/m3]</th>     <td>   -0.0584</td> <td>    0.006</td> <td>   -9.774</td> <td> 0.000</td> <td>   -0.070</td> <td>   -0.047</td>\n",
       "</tr>\n",
       "<tr>\n",
       "  <th>kruszywo_drobne [kg/m3]</th>    <td>   -0.0740</td> <td>    0.006</td> <td>  -12.864</td> <td> 0.000</td> <td>   -0.085</td> <td>   -0.063</td>\n",
       "</tr>\n",
       "<tr>\n",
       "  <th>wiek [dni]</th>                 <td>    0.1080</td> <td>    0.006</td> <td>   19.080</td> <td> 0.000</td> <td>    0.097</td> <td>    0.119</td>\n",
       "</tr>\n",
       "</table>\n",
       "<table class=\"simpletable\">\n",
       "<tr>\n",
       "  <th>Omnibus:</th>       <td> 0.940</td> <th>  Durbin-Watson:     </th> <td>   1.860</td>\n",
       "</tr>\n",
       "<tr>\n",
       "  <th>Prob(Omnibus):</th> <td> 0.625</td> <th>  Jarque-Bera (JB):  </th> <td>   0.971</td>\n",
       "</tr>\n",
       "<tr>\n",
       "  <th>Skew:</th>          <td>-0.073</td> <th>  Prob(JB):          </th> <td>   0.615</td>\n",
       "</tr>\n",
       "<tr>\n",
       "  <th>Kurtosis:</th>      <td> 2.962</td> <th>  Cond. No.          </th> <td>5.44e+04</td>\n",
       "</tr>\n",
       "</table><br/><br/>Notes:<br/>[1] Standard Errors assume that the covariance matrix of the errors is correctly specified.<br/>[2] The condition number is large, 5.44e+04. This might indicate that there are<br/>strong multicollinearity or other numerical problems."
      ],
      "text/plain": [
       "<class 'statsmodels.iolib.summary.Summary'>\n",
       "\"\"\"\n",
       "                            OLS Regression Results                            \n",
       "==============================================================================\n",
       "Dep. Variable:               strength   R-squared:                       0.576\n",
       "Model:                            OLS   Adj. R-squared:                  0.573\n",
       "Method:                 Least Squares   F-statistic:                     198.3\n",
       "Date:                Fri, 18 Mar 2022   Prob (F-statistic):          1.79e-185\n",
       "Time:                        09:47:56   Log-Likelihood:                -3919.4\n",
       "No. Observations:                1030   AIC:                             7855.\n",
       "Df Residuals:                    1022   BIC:                             7894.\n",
       "Df Model:                           7                                         \n",
       "Covariance Type:            nonrobust                                         \n",
       "==============================================================================================\n",
       "                                 coef    std err          t      P>|t|      [0.025      0.975]\n",
       "----------------------------------------------------------------------------------------------\n",
       "const                        210.4226     14.333     14.681      0.000     182.298     238.547\n",
       "cement [kg/m3]                 0.0424      0.004     10.420      0.000       0.034       0.050\n",
       "popiół_lotny [kg/m3]          -0.0237      0.007     -3.583      0.000      -0.037      -0.011\n",
       "woda [kg/m3]                  -0.4287      0.031    -13.811      0.000      -0.490      -0.368\n",
       "superplastyfikator [kg/m3]     0.2824      0.098      2.880      0.004       0.090       0.475\n",
       "kruszywo_grube [kg/m3]        -0.0584      0.006     -9.774      0.000      -0.070      -0.047\n",
       "kruszywo_drobne [kg/m3]       -0.0740      0.006    -12.864      0.000      -0.085      -0.063\n",
       "wiek [dni]                     0.1080      0.006     19.080      0.000       0.097       0.119\n",
       "==============================================================================\n",
       "Omnibus:                        0.940   Durbin-Watson:                   1.860\n",
       "Prob(Omnibus):                  0.625   Jarque-Bera (JB):                0.971\n",
       "Skew:                          -0.073   Prob(JB):                        0.615\n",
       "Kurtosis:                       2.962   Cond. No.                     5.44e+04\n",
       "==============================================================================\n",
       "\n",
       "Notes:\n",
       "[1] Standard Errors assume that the covariance matrix of the errors is correctly specified.\n",
       "[2] The condition number is large, 5.44e+04. This might indicate that there are\n",
       "strong multicollinearity or other numerical problems.\n",
       "\"\"\""
      ]
     },
     "execution_count": 84,
     "metadata": {},
     "output_type": "execute_result"
    }
   ],
   "source": [
    "ls=sm.OLS(Y,sm.add_constant(X))\n",
    "wynik=ls.fit()\n",
    "wynik.summary()"
   ]
  },
  {
   "cell_type": "markdown",
   "id": "1cb6cedc",
   "metadata": {},
   "source": [
    "Uwagi:\n",
    "\n",
    "[1] Błędy standardowe zakładają, że macierz kowariancji błędów jest poprawnie określona.\n",
    "\n",
    "[2] Liczba warunkowa jest duża - 5,44e+04. Może to oznaczać, że występuje śilna wieloliniowość lub inne problemy numeryczne."
   ]
  },
  {
   "cell_type": "markdown",
   "id": "b02b9620",
   "metadata": {},
   "source": [
    "Widzimy, że składnik stały ma wartość P większą od 0,05, czyli od założonego poziomu istotności, dlatego usuwamy składnik stały z modelowania.\n"
   ]
  },
  {
   "cell_type": "code",
   "execution_count": 85,
   "id": "dc034198",
   "metadata": {},
   "outputs": [
    {
     "data": {
      "text/html": [
       "<table class=\"simpletable\">\n",
       "<caption>OLS Regression Results</caption>\n",
       "<tr>\n",
       "  <th>Dep. Variable:</th>        <td>strength</td>     <th>  R-squared (uncentered):</th>      <td>   0.908</td>\n",
       "</tr>\n",
       "<tr>\n",
       "  <th>Model:</th>                   <td>OLS</td>       <th>  Adj. R-squared (uncentered):</th> <td>   0.908</td>\n",
       "</tr>\n",
       "<tr>\n",
       "  <th>Method:</th>             <td>Least Squares</td>  <th>  F-statistic:       </th>          <td>   1448.</td>\n",
       "</tr>\n",
       "<tr>\n",
       "  <th>Date:</th>             <td>Fri, 18 Mar 2022</td> <th>  Prob (F-statistic):</th>           <td>  0.00</td> \n",
       "</tr>\n",
       "<tr>\n",
       "  <th>Time:</th>                 <td>09:47:56</td>     <th>  Log-Likelihood:    </th>          <td> -4017.9</td>\n",
       "</tr>\n",
       "<tr>\n",
       "  <th>No. Observations:</th>      <td>  1030</td>      <th>  AIC:               </th>          <td>   8050.</td>\n",
       "</tr>\n",
       "<tr>\n",
       "  <th>Df Residuals:</th>          <td>  1023</td>      <th>  BIC:               </th>          <td>   8084.</td>\n",
       "</tr>\n",
       "<tr>\n",
       "  <th>Df Model:</th>              <td>     7</td>      <th>                     </th>              <td> </td>   \n",
       "</tr>\n",
       "<tr>\n",
       "  <th>Covariance Type:</th>      <td>nonrobust</td>    <th>                     </th>              <td> </td>   \n",
       "</tr>\n",
       "</table>\n",
       "<table class=\"simpletable\">\n",
       "<tr>\n",
       "               <td></td>                 <th>coef</th>     <th>std err</th>      <th>t</th>      <th>P>|t|</th>  <th>[0.025</th>    <th>0.975]</th>  \n",
       "</tr>\n",
       "<tr>\n",
       "  <th>cement [kg/m3]</th>             <td>    0.0686</td> <td>    0.004</td> <td>   17.026</td> <td> 0.000</td> <td>    0.061</td> <td>    0.076</td>\n",
       "</tr>\n",
       "<tr>\n",
       "  <th>popiół_lotny [kg/m3]</th>       <td>   -0.0096</td> <td>    0.007</td> <td>   -1.330</td> <td> 0.184</td> <td>   -0.024</td> <td>    0.005</td>\n",
       "</tr>\n",
       "<tr>\n",
       "  <th>woda [kg/m3]</th>               <td>   -0.0240</td> <td>    0.016</td> <td>   -1.530</td> <td> 0.126</td> <td>   -0.055</td> <td>    0.007</td>\n",
       "</tr>\n",
       "<tr>\n",
       "  <th>superplastyfikator [kg/m3]</th> <td>    1.1976</td> <td>    0.083</td> <td>   14.384</td> <td> 0.000</td> <td>    1.034</td> <td>    1.361</td>\n",
       "</tr>\n",
       "<tr>\n",
       "  <th>kruszywo_grube [kg/m3]</th>     <td>    0.0157</td> <td>    0.004</td> <td>    4.475</td> <td> 0.000</td> <td>    0.009</td> <td>    0.023</td>\n",
       "</tr>\n",
       "<tr>\n",
       "  <th>kruszywo_drobne [kg/m3]</th>    <td>   -0.0078</td> <td>    0.004</td> <td>   -1.981</td> <td> 0.048</td> <td>   -0.015</td> <td>-7.16e-05</td>\n",
       "</tr>\n",
       "<tr>\n",
       "  <th>wiek [dni]</th>                 <td>    0.1001</td> <td>    0.006</td> <td>   16.155</td> <td> 0.000</td> <td>    0.088</td> <td>    0.112</td>\n",
       "</tr>\n",
       "</table>\n",
       "<table class=\"simpletable\">\n",
       "<tr>\n",
       "  <th>Omnibus:</th>       <td> 6.692</td> <th>  Durbin-Watson:     </th> <td>   1.865</td>\n",
       "</tr>\n",
       "<tr>\n",
       "  <th>Prob(Omnibus):</th> <td> 0.035</td> <th>  Jarque-Bera (JB):  </th> <td>   6.775</td>\n",
       "</tr>\n",
       "<tr>\n",
       "  <th>Skew:</th>          <td> 0.197</td> <th>  Prob(JB):          </th> <td>  0.0338</td>\n",
       "</tr>\n",
       "<tr>\n",
       "  <th>Kurtosis:</th>      <td> 2.953</td> <th>  Cond. No.          </th> <td>    288.</td>\n",
       "</tr>\n",
       "</table><br/><br/>Notes:<br/>[1] R² is computed without centering (uncentered) since the model does not contain a constant.<br/>[2] Standard Errors assume that the covariance matrix of the errors is correctly specified."
      ],
      "text/plain": [
       "<class 'statsmodels.iolib.summary.Summary'>\n",
       "\"\"\"\n",
       "                                 OLS Regression Results                                \n",
       "=======================================================================================\n",
       "Dep. Variable:               strength   R-squared (uncentered):                   0.908\n",
       "Model:                            OLS   Adj. R-squared (uncentered):              0.908\n",
       "Method:                 Least Squares   F-statistic:                              1448.\n",
       "Date:                Fri, 18 Mar 2022   Prob (F-statistic):                        0.00\n",
       "Time:                        09:47:56   Log-Likelihood:                         -4017.9\n",
       "No. Observations:                1030   AIC:                                      8050.\n",
       "Df Residuals:                    1023   BIC:                                      8084.\n",
       "Df Model:                           7                                                  \n",
       "Covariance Type:            nonrobust                                                  \n",
       "==============================================================================================\n",
       "                                 coef    std err          t      P>|t|      [0.025      0.975]\n",
       "----------------------------------------------------------------------------------------------\n",
       "cement [kg/m3]                 0.0686      0.004     17.026      0.000       0.061       0.076\n",
       "popiół_lotny [kg/m3]          -0.0096      0.007     -1.330      0.184      -0.024       0.005\n",
       "woda [kg/m3]                  -0.0240      0.016     -1.530      0.126      -0.055       0.007\n",
       "superplastyfikator [kg/m3]     1.1976      0.083     14.384      0.000       1.034       1.361\n",
       "kruszywo_grube [kg/m3]         0.0157      0.004      4.475      0.000       0.009       0.023\n",
       "kruszywo_drobne [kg/m3]       -0.0078      0.004     -1.981      0.048      -0.015   -7.16e-05\n",
       "wiek [dni]                     0.1001      0.006     16.155      0.000       0.088       0.112\n",
       "==============================================================================\n",
       "Omnibus:                        6.692   Durbin-Watson:                   1.865\n",
       "Prob(Omnibus):                  0.035   Jarque-Bera (JB):                6.775\n",
       "Skew:                           0.197   Prob(JB):                       0.0338\n",
       "Kurtosis:                       2.953   Cond. No.                         288.\n",
       "==============================================================================\n",
       "\n",
       "Notes:\n",
       "[1] R² is computed without centering (uncentered) since the model does not contain a constant.\n",
       "[2] Standard Errors assume that the covariance matrix of the errors is correctly specified.\n",
       "\"\"\""
      ]
     },
     "execution_count": 85,
     "metadata": {},
     "output_type": "execute_result"
    }
   ],
   "source": [
    "ls=sm.OLS(Y,X)\n",
    "wynik=ls.fit()\n",
    "wynik.summary()"
   ]
  },
  {
   "cell_type": "markdown",
   "id": "da25b400",
   "metadata": {},
   "source": [
    "Uwagi:\n",
    "\n",
    "[1] R² oblicza się bez wypośrodkowania (niewypośrodkowane), ponieważ model nie zawiera stałej.\n",
    "\n",
    "[2] Błędy standardowe zakładają, że macierz kowariancji błędów jest prawidłowo określona."
   ]
  },
  {
   "cell_type": "code",
   "execution_count": 86,
   "id": "0c07af2d",
   "metadata": {},
   "outputs": [],
   "source": [
    "X_train,X_test,y_train,y_test = train_test_split(X, Y, random_state=150, test_size=0.3 )\n"
   ]
  },
  {
   "cell_type": "code",
   "execution_count": 87,
   "id": "6cf14253",
   "metadata": {},
   "outputs": [
    {
     "data": {
      "text/html": [
       "<div>\n",
       "<style scoped>\n",
       "    .dataframe tbody tr th:only-of-type {\n",
       "        vertical-align: middle;\n",
       "    }\n",
       "\n",
       "    .dataframe tbody tr th {\n",
       "        vertical-align: top;\n",
       "    }\n",
       "\n",
       "    .dataframe thead th {\n",
       "        text-align: right;\n",
       "    }\n",
       "</style>\n",
       "<table border=\"1\" class=\"dataframe\">\n",
       "  <thead>\n",
       "    <tr style=\"text-align: right;\">\n",
       "      <th></th>\n",
       "      <th>cement [kg/m3]</th>\n",
       "      <th>popiół_lotny [kg/m3]</th>\n",
       "      <th>woda [kg/m3]</th>\n",
       "      <th>superplastyfikator [kg/m3]</th>\n",
       "      <th>kruszywo_grube [kg/m3]</th>\n",
       "      <th>kruszywo_drobne [kg/m3]</th>\n",
       "      <th>wiek [dni]</th>\n",
       "    </tr>\n",
       "  </thead>\n",
       "  <tbody>\n",
       "    <tr>\n",
       "      <th>1012</th>\n",
       "      <td>296.0</td>\n",
       "      <td>0.0</td>\n",
       "      <td>192.0</td>\n",
       "      <td>0.0</td>\n",
       "      <td>1085.0</td>\n",
       "      <td>765.0</td>\n",
       "      <td>90.0</td>\n",
       "    </tr>\n",
       "    <tr>\n",
       "      <th>276</th>\n",
       "      <td>166.0</td>\n",
       "      <td>0.0</td>\n",
       "      <td>183.0</td>\n",
       "      <td>13.0</td>\n",
       "      <td>859.0</td>\n",
       "      <td>827.0</td>\n",
       "      <td>28.0</td>\n",
       "    </tr>\n",
       "    <tr>\n",
       "      <th>236</th>\n",
       "      <td>213.7</td>\n",
       "      <td>24.5</td>\n",
       "      <td>181.7</td>\n",
       "      <td>6.9</td>\n",
       "      <td>1065.8</td>\n",
       "      <td>785.4</td>\n",
       "      <td>3.0</td>\n",
       "    </tr>\n",
       "    <tr>\n",
       "      <th>537</th>\n",
       "      <td>387.0</td>\n",
       "      <td>94.0</td>\n",
       "      <td>157.0</td>\n",
       "      <td>13.9</td>\n",
       "      <td>938.0</td>\n",
       "      <td>845.0</td>\n",
       "      <td>56.0</td>\n",
       "    </tr>\n",
       "    <tr>\n",
       "      <th>494</th>\n",
       "      <td>277.2</td>\n",
       "      <td>24.5</td>\n",
       "      <td>160.7</td>\n",
       "      <td>11.2</td>\n",
       "      <td>1061.7</td>\n",
       "      <td>782.5</td>\n",
       "      <td>3.0</td>\n",
       "    </tr>\n",
       "    <tr>\n",
       "      <th>...</th>\n",
       "      <td>...</td>\n",
       "      <td>...</td>\n",
       "      <td>...</td>\n",
       "      <td>...</td>\n",
       "      <td>...</td>\n",
       "      <td>...</td>\n",
       "      <td>...</td>\n",
       "    </tr>\n",
       "    <tr>\n",
       "      <th>764</th>\n",
       "      <td>151.0</td>\n",
       "      <td>185.0</td>\n",
       "      <td>167.0</td>\n",
       "      <td>16.0</td>\n",
       "      <td>1074.0</td>\n",
       "      <td>678.0</td>\n",
       "      <td>28.0</td>\n",
       "    </tr>\n",
       "    <tr>\n",
       "      <th>306</th>\n",
       "      <td>198.6</td>\n",
       "      <td>0.0</td>\n",
       "      <td>192.0</td>\n",
       "      <td>0.0</td>\n",
       "      <td>978.4</td>\n",
       "      <td>825.5</td>\n",
       "      <td>90.0</td>\n",
       "    </tr>\n",
       "    <tr>\n",
       "      <th>496</th>\n",
       "      <td>218.9</td>\n",
       "      <td>124.1</td>\n",
       "      <td>158.5</td>\n",
       "      <td>11.3</td>\n",
       "      <td>1078.7</td>\n",
       "      <td>794.9</td>\n",
       "      <td>100.0</td>\n",
       "    </tr>\n",
       "    <tr>\n",
       "      <th>25</th>\n",
       "      <td>310.0</td>\n",
       "      <td>0.0</td>\n",
       "      <td>168.0</td>\n",
       "      <td>10.0</td>\n",
       "      <td>914.0</td>\n",
       "      <td>804.0</td>\n",
       "      <td>28.0</td>\n",
       "    </tr>\n",
       "    <tr>\n",
       "      <th>442</th>\n",
       "      <td>359.0</td>\n",
       "      <td>141.0</td>\n",
       "      <td>154.0</td>\n",
       "      <td>10.9</td>\n",
       "      <td>942.0</td>\n",
       "      <td>801.0</td>\n",
       "      <td>7.0</td>\n",
       "    </tr>\n",
       "  </tbody>\n",
       "</table>\n",
       "<p>721 rows × 7 columns</p>\n",
       "</div>"
      ],
      "text/plain": [
       "      cement [kg/m3]  popiół_lotny [kg/m3]  woda [kg/m3]  \\\n",
       "1012           296.0                   0.0         192.0   \n",
       "276            166.0                   0.0         183.0   \n",
       "236            213.7                  24.5         181.7   \n",
       "537            387.0                  94.0         157.0   \n",
       "494            277.2                  24.5         160.7   \n",
       "...              ...                   ...           ...   \n",
       "764            151.0                 185.0         167.0   \n",
       "306            198.6                   0.0         192.0   \n",
       "496            218.9                 124.1         158.5   \n",
       "25             310.0                   0.0         168.0   \n",
       "442            359.0                 141.0         154.0   \n",
       "\n",
       "      superplastyfikator [kg/m3]  kruszywo_grube [kg/m3]  \\\n",
       "1012                         0.0                  1085.0   \n",
       "276                         13.0                   859.0   \n",
       "236                          6.9                  1065.8   \n",
       "537                         13.9                   938.0   \n",
       "494                         11.2                  1061.7   \n",
       "...                          ...                     ...   \n",
       "764                         16.0                  1074.0   \n",
       "306                          0.0                   978.4   \n",
       "496                         11.3                  1078.7   \n",
       "25                          10.0                   914.0   \n",
       "442                         10.9                   942.0   \n",
       "\n",
       "      kruszywo_drobne [kg/m3]  wiek [dni]  \n",
       "1012                    765.0        90.0  \n",
       "276                     827.0        28.0  \n",
       "236                     785.4         3.0  \n",
       "537                     845.0        56.0  \n",
       "494                     782.5         3.0  \n",
       "...                       ...         ...  \n",
       "764                     678.0        28.0  \n",
       "306                     825.5        90.0  \n",
       "496                     794.9       100.0  \n",
       "25                      804.0        28.0  \n",
       "442                     801.0         7.0  \n",
       "\n",
       "[721 rows x 7 columns]"
      ]
     },
     "execution_count": 87,
     "metadata": {},
     "output_type": "execute_result"
    }
   ],
   "source": [
    "X_train"
   ]
  },
  {
   "cell_type": "code",
   "execution_count": 88,
   "id": "d6b510c3",
   "metadata": {
    "scrolled": true
   },
   "outputs": [
    {
     "data": {
      "text/html": [
       "<div>\n",
       "<style scoped>\n",
       "    .dataframe tbody tr th:only-of-type {\n",
       "        vertical-align: middle;\n",
       "    }\n",
       "\n",
       "    .dataframe tbody tr th {\n",
       "        vertical-align: top;\n",
       "    }\n",
       "\n",
       "    .dataframe thead th {\n",
       "        text-align: right;\n",
       "    }\n",
       "</style>\n",
       "<table border=\"1\" class=\"dataframe\">\n",
       "  <thead>\n",
       "    <tr style=\"text-align: right;\">\n",
       "      <th></th>\n",
       "      <th>cement [kg/m3]</th>\n",
       "      <th>popiół_lotny [kg/m3]</th>\n",
       "      <th>woda [kg/m3]</th>\n",
       "      <th>superplastyfikator [kg/m3]</th>\n",
       "      <th>kruszywo_grube [kg/m3]</th>\n",
       "      <th>kruszywo_drobne [kg/m3]</th>\n",
       "      <th>wiek [dni]</th>\n",
       "    </tr>\n",
       "  </thead>\n",
       "  <tbody>\n",
       "    <tr>\n",
       "      <th>926</th>\n",
       "      <td>475.0</td>\n",
       "      <td>0.0</td>\n",
       "      <td>181.1</td>\n",
       "      <td>8.9</td>\n",
       "      <td>852.1</td>\n",
       "      <td>781.5</td>\n",
       "      <td>7.0</td>\n",
       "    </tr>\n",
       "    <tr>\n",
       "      <th>58</th>\n",
       "      <td>295.7</td>\n",
       "      <td>95.6</td>\n",
       "      <td>171.5</td>\n",
       "      <td>8.9</td>\n",
       "      <td>955.1</td>\n",
       "      <td>859.2</td>\n",
       "      <td>14.0</td>\n",
       "    </tr>\n",
       "    <tr>\n",
       "      <th>225</th>\n",
       "      <td>313.3</td>\n",
       "      <td>113.0</td>\n",
       "      <td>178.5</td>\n",
       "      <td>8.0</td>\n",
       "      <td>1001.9</td>\n",
       "      <td>688.7</td>\n",
       "      <td>28.0</td>\n",
       "    </tr>\n",
       "    <tr>\n",
       "      <th>381</th>\n",
       "      <td>194.7</td>\n",
       "      <td>100.5</td>\n",
       "      <td>165.6</td>\n",
       "      <td>7.5</td>\n",
       "      <td>1006.4</td>\n",
       "      <td>905.9</td>\n",
       "      <td>28.0</td>\n",
       "    </tr>\n",
       "    <tr>\n",
       "      <th>461</th>\n",
       "      <td>334.0</td>\n",
       "      <td>158.0</td>\n",
       "      <td>189.0</td>\n",
       "      <td>15.3</td>\n",
       "      <td>967.0</td>\n",
       "      <td>633.0</td>\n",
       "      <td>28.0</td>\n",
       "    </tr>\n",
       "    <tr>\n",
       "      <th>...</th>\n",
       "      <td>...</td>\n",
       "      <td>...</td>\n",
       "      <td>...</td>\n",
       "      <td>...</td>\n",
       "      <td>...</td>\n",
       "      <td>...</td>\n",
       "      <td>...</td>\n",
       "    </tr>\n",
       "    <tr>\n",
       "      <th>224</th>\n",
       "      <td>220.8</td>\n",
       "      <td>0.0</td>\n",
       "      <td>185.7</td>\n",
       "      <td>0.0</td>\n",
       "      <td>1055.0</td>\n",
       "      <td>744.3</td>\n",
       "      <td>28.0</td>\n",
       "    </tr>\n",
       "    <tr>\n",
       "      <th>513</th>\n",
       "      <td>164.0</td>\n",
       "      <td>200.0</td>\n",
       "      <td>181.0</td>\n",
       "      <td>13.0</td>\n",
       "      <td>849.0</td>\n",
       "      <td>846.0</td>\n",
       "      <td>28.0</td>\n",
       "    </tr>\n",
       "    <tr>\n",
       "      <th>162</th>\n",
       "      <td>349.0</td>\n",
       "      <td>0.0</td>\n",
       "      <td>192.0</td>\n",
       "      <td>0.0</td>\n",
       "      <td>1047.0</td>\n",
       "      <td>806.0</td>\n",
       "      <td>7.0</td>\n",
       "    </tr>\n",
       "    <tr>\n",
       "      <th>462</th>\n",
       "      <td>168.0</td>\n",
       "      <td>163.8</td>\n",
       "      <td>121.8</td>\n",
       "      <td>5.7</td>\n",
       "      <td>1058.7</td>\n",
       "      <td>780.1</td>\n",
       "      <td>100.0</td>\n",
       "    </tr>\n",
       "    <tr>\n",
       "      <th>874</th>\n",
       "      <td>401.8</td>\n",
       "      <td>0.0</td>\n",
       "      <td>147.4</td>\n",
       "      <td>11.4</td>\n",
       "      <td>946.8</td>\n",
       "      <td>852.1</td>\n",
       "      <td>3.0</td>\n",
       "    </tr>\n",
       "  </tbody>\n",
       "</table>\n",
       "<p>309 rows × 7 columns</p>\n",
       "</div>"
      ],
      "text/plain": [
       "     cement [kg/m3]  popiół_lotny [kg/m3]  woda [kg/m3]  \\\n",
       "926           475.0                   0.0         181.1   \n",
       "58            295.7                  95.6         171.5   \n",
       "225           313.3                 113.0         178.5   \n",
       "381           194.7                 100.5         165.6   \n",
       "461           334.0                 158.0         189.0   \n",
       "..              ...                   ...           ...   \n",
       "224           220.8                   0.0         185.7   \n",
       "513           164.0                 200.0         181.0   \n",
       "162           349.0                   0.0         192.0   \n",
       "462           168.0                 163.8         121.8   \n",
       "874           401.8                   0.0         147.4   \n",
       "\n",
       "     superplastyfikator [kg/m3]  kruszywo_grube [kg/m3]  \\\n",
       "926                         8.9                   852.1   \n",
       "58                          8.9                   955.1   \n",
       "225                         8.0                  1001.9   \n",
       "381                         7.5                  1006.4   \n",
       "461                        15.3                   967.0   \n",
       "..                          ...                     ...   \n",
       "224                         0.0                  1055.0   \n",
       "513                        13.0                   849.0   \n",
       "162                         0.0                  1047.0   \n",
       "462                         5.7                  1058.7   \n",
       "874                        11.4                   946.8   \n",
       "\n",
       "     kruszywo_drobne [kg/m3]  wiek [dni]  \n",
       "926                    781.5         7.0  \n",
       "58                     859.2        14.0  \n",
       "225                    688.7        28.0  \n",
       "381                    905.9        28.0  \n",
       "461                    633.0        28.0  \n",
       "..                       ...         ...  \n",
       "224                    744.3        28.0  \n",
       "513                    846.0        28.0  \n",
       "162                    806.0         7.0  \n",
       "462                    780.1       100.0  \n",
       "874                    852.1         3.0  \n",
       "\n",
       "[309 rows x 7 columns]"
      ]
     },
     "execution_count": 88,
     "metadata": {},
     "output_type": "execute_result"
    }
   ],
   "source": [
    "X_test"
   ]
  },
  {
   "cell_type": "code",
   "execution_count": 89,
   "id": "7594c86c",
   "metadata": {},
   "outputs": [
    {
     "data": {
      "text/plain": [
       "1012    29.39\n",
       "276     37.91\n",
       "236     18.00\n",
       "537     47.97\n",
       "494     30.45\n",
       "        ...  \n",
       "764     13.46\n",
       "306     38.07\n",
       "496     46.23\n",
       "25      45.30\n",
       "442     35.75\n",
       "Name: strength, Length: 721, dtype: float64"
      ]
     },
     "execution_count": 89,
     "metadata": {},
     "output_type": "execute_result"
    }
   ],
   "source": [
    "y_train"
   ]
  },
  {
   "cell_type": "code",
   "execution_count": 90,
   "id": "0c77b8e6",
   "metadata": {},
   "outputs": [
    {
     "data": {
      "text/plain": [
       "926    55.60\n",
       "58     35.23\n",
       "225    36.80\n",
       "381    25.72\n",
       "461    44.33\n",
       "       ...  \n",
       "224    25.75\n",
       "513    15.09\n",
       "162    18.13\n",
       "462    39.23\n",
       "874    41.10\n",
       "Name: strength, Length: 309, dtype: float64"
      ]
     },
     "execution_count": 90,
     "metadata": {},
     "output_type": "execute_result"
    }
   ],
   "source": [
    "y_test"
   ]
  },
  {
   "cell_type": "code",
   "execution_count": 91,
   "id": "9e22268b",
   "metadata": {},
   "outputs": [
    {
     "data": {
      "text/plain": [
       "22.57194060247849"
      ]
     },
     "execution_count": 91,
     "metadata": {},
     "output_type": "execute_result"
    }
   ],
   "source": [
    "lr=LinearRegression()\n",
    "\n",
    "lr.fit(X_train,y_train)\n",
    "z = lr.predict(X_train.iloc[[2],:]) #Przykład dla jakiejś tablicy.\n",
    "z[0]"
   ]
  },
  {
   "cell_type": "code",
   "execution_count": 92,
   "id": "883f28f5",
   "metadata": {},
   "outputs": [
    {
     "data": {
      "text/html": [
       "<div>\n",
       "<style scoped>\n",
       "    .dataframe tbody tr th:only-of-type {\n",
       "        vertical-align: middle;\n",
       "    }\n",
       "\n",
       "    .dataframe tbody tr th {\n",
       "        vertical-align: top;\n",
       "    }\n",
       "\n",
       "    .dataframe thead th {\n",
       "        text-align: right;\n",
       "    }\n",
       "</style>\n",
       "<table border=\"1\" class=\"dataframe\">\n",
       "  <thead>\n",
       "    <tr style=\"text-align: right;\">\n",
       "      <th></th>\n",
       "      <th>cement [kg/m3]</th>\n",
       "      <th>popiół_lotny [kg/m3]</th>\n",
       "      <th>woda [kg/m3]</th>\n",
       "      <th>superplastyfikator [kg/m3]</th>\n",
       "      <th>kruszywo_grube [kg/m3]</th>\n",
       "      <th>kruszywo_drobne [kg/m3]</th>\n",
       "      <th>wiek [dni]</th>\n",
       "    </tr>\n",
       "  </thead>\n",
       "  <tbody>\n",
       "    <tr>\n",
       "      <th>236</th>\n",
       "      <td>213.7</td>\n",
       "      <td>24.5</td>\n",
       "      <td>181.7</td>\n",
       "      <td>6.9</td>\n",
       "      <td>1065.8</td>\n",
       "      <td>785.4</td>\n",
       "      <td>3.0</td>\n",
       "    </tr>\n",
       "  </tbody>\n",
       "</table>\n",
       "</div>"
      ],
      "text/plain": [
       "     cement [kg/m3]  popiół_lotny [kg/m3]  woda [kg/m3]  \\\n",
       "236           213.7                  24.5         181.7   \n",
       "\n",
       "     superplastyfikator [kg/m3]  kruszywo_grube [kg/m3]  \\\n",
       "236                         6.9                  1065.8   \n",
       "\n",
       "     kruszywo_drobne [kg/m3]  wiek [dni]  \n",
       "236                    785.4         3.0  "
      ]
     },
     "execution_count": 92,
     "metadata": {},
     "output_type": "execute_result"
    }
   ],
   "source": [
    "X_train.iloc[[2],:]"
   ]
  },
  {
   "cell_type": "code",
   "execution_count": 93,
   "id": "166d6eeb",
   "metadata": {},
   "outputs": [
    {
     "data": {
      "text/plain": [
       "0.6486486486486487"
      ]
     },
     "execution_count": 93,
     "metadata": {},
     "output_type": "execute_result"
    }
   ],
   "source": [
    "X_train.iloc[0,2]/X_train.iloc[0,0] # Obliczanie stosunku wodno-cementowego informacyjnie w sumie"
   ]
  },
  {
   "cell_type": "code",
   "execution_count": 94,
   "id": "1d5c90dc",
   "metadata": {},
   "outputs": [
    {
     "name": "stdout",
     "output_type": "stream",
     "text": [
      "Ocena modelu:  0.5821942883266018\n",
      "Ocena modelu treningowego R2 :  0.5821942883266018\n",
      "Ocena modelu testowego R2 :  0.555794911722028\n"
     ]
    }
   ],
   "source": [
    "print('Ocena modelu: ',lr.score(X_train,y_train))\n",
    "y_pred_lrtr=lr.predict(X_train)\n",
    "y_pred_lrte=lr.predict(X_test)\n",
    "from sklearn.metrics import r2_score, mean_squared_error\n",
    "\n",
    "print('Ocena modelu treningowego R2 : ',r2_score(y_train,y_pred_lrtr))\n",
    "print('Ocena modelu testowego R2 : ',r2_score(y_test,y_pred_lrte))"
   ]
  },
  {
   "cell_type": "code",
   "execution_count": 95,
   "id": "f3101cea",
   "metadata": {},
   "outputs": [
    {
     "data": {
      "text/plain": [
       "True"
      ]
     },
     "execution_count": 95,
     "metadata": {},
     "output_type": "execute_result"
    }
   ],
   "source": [
    "lr.score(X_train,y_train) == r2_score(y_train,y_pred_lrtr)"
   ]
  },
  {
   "cell_type": "code",
   "execution_count": 96,
   "id": "f54fb048",
   "metadata": {},
   "outputs": [
    {
     "data": {
      "image/png": "[encoded data removed]",
      "text/plain": [
       "<Figure size 720x576 with 1 Axes>"
      ]
     },
     "metadata": {
      "needs_background": "light"
     },
     "output_type": "display_data"
    }
   ],
   "source": [
    "plt.figure(figsize=(10,8))\n",
    "plt.scatter(y_pred_lrte,y_test)\n",
    "plt.plot([y_test.min(), y_test.max()], [y_test.min(), y_test.max()], color='red')\n",
    "plt.xlabel('predicted')\n",
    "plt.ylabel('orignal')\n",
    "plt.show()"
   ]
  },
  {
   "cell_type": "markdown",
   "id": "0204aa84",
   "metadata": {},
   "source": [
    "# Przykład predykcji wytrzymałości na ściskanie dla pożiszych danych wejściowych"
   ]
  },
  {
   "cell_type": "markdown",
   "id": "c014ebfa",
   "metadata": {},
   "source": [
    "Poniżej przedstawiono predykcję na podstawie przykładowych danych losowo wybranych. "
   ]
  },
  {
   "cell_type": "code",
   "execution_count": 97,
   "id": "c90df9ce",
   "metadata": {},
   "outputs": [
    {
     "data": {
      "text/html": [
       "<div>\n",
       "<style scoped>\n",
       "    .dataframe tbody tr th:only-of-type {\n",
       "        vertical-align: middle;\n",
       "    }\n",
       "\n",
       "    .dataframe tbody tr th {\n",
       "        vertical-align: top;\n",
       "    }\n",
       "\n",
       "    .dataframe thead th {\n",
       "        text-align: right;\n",
       "    }\n",
       "</style>\n",
       "<table border=\"1\" class=\"dataframe\">\n",
       "  <thead>\n",
       "    <tr style=\"text-align: right;\">\n",
       "      <th></th>\n",
       "      <th>cement [kg/m3]</th>\n",
       "      <th>popiół_lotny [kg/m3]</th>\n",
       "      <th>woda [kg/m3]</th>\n",
       "      <th>superplastyfikator [kg/m3]</th>\n",
       "      <th>kruszywo_grube [kg/m3]</th>\n",
       "      <th>kruszywo_drobne [kg/m3]</th>\n",
       "      <th>wiek [dni]</th>\n",
       "    </tr>\n",
       "  </thead>\n",
       "  <tbody>\n",
       "    <tr>\n",
       "      <th>23</th>\n",
       "      <td>132.0</td>\n",
       "      <td>161.0</td>\n",
       "      <td>179.0</td>\n",
       "      <td>5.0</td>\n",
       "      <td>867.0</td>\n",
       "      <td>736.0</td>\n",
       "      <td>28.0</td>\n",
       "    </tr>\n",
       "  </tbody>\n",
       "</table>\n",
       "</div>"
      ],
      "text/plain": [
       "    cement [kg/m3]  popiół_lotny [kg/m3]  woda [kg/m3]  \\\n",
       "23           132.0                 161.0         179.0   \n",
       "\n",
       "    superplastyfikator [kg/m3]  kruszywo_grube [kg/m3]  \\\n",
       "23                         5.0                   867.0   \n",
       "\n",
       "    kruszywo_drobne [kg/m3]  wiek [dni]  \n",
       "23                    736.0        28.0  "
      ]
     },
     "execution_count": 97,
     "metadata": {},
     "output_type": "execute_result"
    }
   ],
   "source": [
    "X_train.iloc[[23],:]"
   ]
  },
  {
   "cell_type": "code",
   "execution_count": 98,
   "id": "7b587a59",
   "metadata": {},
   "outputs": [
    {
     "data": {
      "text/plain": [
       "cement [kg/m3]                132.0\n",
       "popiół_lotny [kg/m3]          161.0\n",
       "woda [kg/m3]                  179.0\n",
       "superplastyfikator [kg/m3]      5.0\n",
       "kruszywo_grube [kg/m3]        867.0\n",
       "kruszywo_drobne [kg/m3]       736.0\n",
       "wiek [dni]                     28.0\n",
       "strength                       33.3\n",
       "Name: 23, dtype: float64"
      ]
     },
     "execution_count": 98,
     "metadata": {},
     "output_type": "execute_result"
    }
   ],
   "source": [
    "beton.loc[23,:]"
   ]
  },
  {
   "cell_type": "code",
   "execution_count": 99,
   "id": "01a379a0",
   "metadata": {},
   "outputs": [
    {
     "data": {
      "text/plain": [
       "35.023954611129"
      ]
     },
     "execution_count": 99,
     "metadata": {},
     "output_type": "execute_result"
    }
   ],
   "source": [
    "z = lr.predict(X_train.iloc[[23],:]) #Przykład dla jakiejś tablicy.\n",
    "z[0]"
   ]
  },
  {
   "cell_type": "markdown",
   "id": "86ee078f",
   "metadata": {},
   "source": [
    "Wytrzymałość prognozowana po 28 dniach wyniosła 35 MPa a rzeczywista 33,3 MPa. Różnica jest dosyć nie wielka nie mniej jednak sam algorytm regresji nie jest idealny.\n",
    "\n",
    "Poniżej znajdują się różne rozwiązania za pomocą bardziej zaawansowanych algorytmów uczenia maszynowego. Work in progress\n"
   ]
  },
  {
   "cell_type": "markdown",
   "id": "8492c8a0",
   "metadata": {},
   "source": [
    "## STOP\n",
    "\n",
    "# Poniżej znajdują się bardziej zaawansowane rozwiązania - Work in progresss"
   ]
  },
  {
   "cell_type": "code",
   "execution_count": 100,
   "id": "cfa025a3",
   "metadata": {},
   "outputs": [
    {
     "name": "stdout",
     "output_type": "stream",
     "text": [
      "Training R2 - degree 2 polynomial:  0.7981287036274147\n",
      "Test R2 - degree 2 polynomial:  0.729897038820154\n"
     ]
    }
   ],
   "source": [
    "pf = PolynomialFeatures(degree = 2)\n",
    "X_polytr = pf.fit_transform(X_train)\n",
    "lr.fit(X_polytr,y_train)\n",
    "y_pred_lr2tr = lr.predict(X_polytr)\n",
    "print(\"Training R2 - degree 2 polynomial: \",r2_score(y_train, y_pred_lr2tr ))\n",
    "X_polyte = pf.fit_transform(X_test)\n",
    "y_pred_lr2te= lr.predict(X_polyte)\n",
    "print(\"Test R2 - degree 2 polynomial: \",r2_score(y_test,y_pred_lr2te))"
   ]
  },
  {
   "cell_type": "code",
   "execution_count": 101,
   "id": "bf0c75e4",
   "metadata": {},
   "outputs": [
    {
     "data": {
      "image/png": "[encoded data removed]",
      "text/plain": [
       "<Figure size 720x576 with 1 Axes>"
      ]
     },
     "metadata": {
      "needs_background": "light"
     },
     "output_type": "display_data"
    }
   ],
   "source": [
    "plt.figure(figsize=(10,8))\n",
    "plt.scatter(y_pred_lr2te,y_test)\n",
    "plt.plot([y_test.min(), y_test.max()], [y_test.min(), y_test.max()], color='red')\n",
    "plt.xlabel('predicted')\n",
    "plt.ylabel('orignal')\n",
    "plt.show()"
   ]
  },
  {
   "cell_type": "code",
   "execution_count": 102,
   "id": "179d5bd6",
   "metadata": {},
   "outputs": [
    {
     "name": "stdout",
     "output_type": "stream",
     "text": [
      "Training R2 - degree 2 polynomial:  0.7187399722961141\n",
      "Test R2 - degree 2 polynomial:  0.5634374675223472\n"
     ]
    }
   ],
   "source": [
    "pf = PolynomialFeatures(degree = 3)\n",
    "X_polytr = pf.fit_transform(X_train)\n",
    "lr.fit(X_polytr,y_train)\n",
    "y_pred_lr2tr = lr.predict(X_polytr)\n",
    "print(\"Training R2 - degree 2 polynomial: \",r2_score(y_train, y_pred_lr2tr ))\n",
    "X_polyte = pf.fit_transform(X_test)\n",
    "y_pred_lr2te= lr.predict(X_polyte)\n",
    "print(\"Test R2 - degree 2 polynomial: \",r2_score(y_test,y_pred_lr2te))"
   ]
  },
  {
   "cell_type": "code",
   "execution_count": 103,
   "id": "3870c635",
   "metadata": {},
   "outputs": [
    {
     "data": {
      "text/html": [
       "<div>\n",
       "<style scoped>\n",
       "    .dataframe tbody tr th:only-of-type {\n",
       "        vertical-align: middle;\n",
       "    }\n",
       "\n",
       "    .dataframe tbody tr th {\n",
       "        vertical-align: top;\n",
       "    }\n",
       "\n",
       "    .dataframe thead th {\n",
       "        text-align: right;\n",
       "    }\n",
       "</style>\n",
       "<table border=\"1\" class=\"dataframe\">\n",
       "  <thead>\n",
       "    <tr style=\"text-align: right;\">\n",
       "      <th></th>\n",
       "      <th>cement [kg/m3]</th>\n",
       "      <th>popiół_lotny [kg/m3]</th>\n",
       "      <th>woda [kg/m3]</th>\n",
       "      <th>superplastyfikator [kg/m3]</th>\n",
       "      <th>kruszywo_grube [kg/m3]</th>\n",
       "      <th>kruszywo_drobne [kg/m3]</th>\n",
       "      <th>wiek [dni]</th>\n",
       "    </tr>\n",
       "  </thead>\n",
       "  <tbody>\n",
       "    <tr>\n",
       "      <th>236</th>\n",
       "      <td>213.7</td>\n",
       "      <td>24.5</td>\n",
       "      <td>181.7</td>\n",
       "      <td>6.9</td>\n",
       "      <td>1065.8</td>\n",
       "      <td>785.4</td>\n",
       "      <td>3.0</td>\n",
       "    </tr>\n",
       "  </tbody>\n",
       "</table>\n",
       "</div>"
      ],
      "text/plain": [
       "     cement [kg/m3]  popiół_lotny [kg/m3]  woda [kg/m3]  \\\n",
       "236           213.7                  24.5         181.7   \n",
       "\n",
       "     superplastyfikator [kg/m3]  kruszywo_grube [kg/m3]  \\\n",
       "236                         6.9                  1065.8   \n",
       "\n",
       "     kruszywo_drobne [kg/m3]  wiek [dni]  \n",
       "236                    785.4         3.0  "
      ]
     },
     "execution_count": 103,
     "metadata": {},
     "output_type": "execute_result"
    }
   ],
   "source": [
    "X_train.iloc[[2],:]"
   ]
  },
  {
   "cell_type": "code",
   "execution_count": 104,
   "id": "ea36f97c",
   "metadata": {},
   "outputs": [
    {
     "data": {
      "text/plain": [
       "15.567306832410395"
      ]
     },
     "execution_count": 104,
     "metadata": {},
     "output_type": "execute_result"
    }
   ],
   "source": [
    "przyklad = pf.fit_transform(X_train.iloc[[2],:])\n",
    "z = lr.predict(przyklad) #Przykład dla jakiejś tablicy.\n",
    "z[0]\n"
   ]
  },
  {
   "cell_type": "code",
   "execution_count": 105,
   "id": "54e29467",
   "metadata": {},
   "outputs": [
    {
     "data": {
      "image/png": "[encoded data removed]",
      "text/plain": [
       "<Figure size 720x576 with 1 Axes>"
      ]
     },
     "metadata": {
      "needs_background": "light"
     },
     "output_type": "display_data"
    }
   ],
   "source": [
    "plt.figure(figsize=(10,8))\n",
    "plt.scatter(y_pred_lr2te,y_test)\n",
    "plt.plot([y_test.min(), y_test.max()], [y_test.min(), y_test.max()], color='red')\n",
    "plt.xlabel('predicted')\n",
    "plt.ylabel('orignal')\n",
    "plt.show()"
   ]
  },
  {
   "cell_type": "code",
   "execution_count": 106,
   "id": "b4873a3e",
   "metadata": {},
   "outputs": [
    {
     "name": "stdout",
     "output_type": "stream",
     "text": [
      "Training R2 - degree 2 polynomial:  0.9669278530480343\n",
      "Test R2 - degree 2 polynomial:  0.5060788523530988\n"
     ]
    }
   ],
   "source": [
    "pf = PolynomialFeatures(degree = 4)\n",
    "X_polytr = pf.fit_transform(X_train)\n",
    "lr.fit(X_polytr,y_train)\n",
    "y_pred_lr2tr = lr.predict(X_polytr)\n",
    "print(\"Training R2 - degree 2 polynomial: \",r2_score(y_train, y_pred_lr2tr ))\n",
    "X_polyte = pf.fit_transform(X_test)\n",
    "y_pred_lr2te= lr.predict(X_polyte)\n",
    "print(\"Test R2 - degree 2 polynomial: \",r2_score(y_test,y_pred_lr2te))"
   ]
  },
  {
   "cell_type": "code",
   "execution_count": 107,
   "id": "be981a66",
   "metadata": {},
   "outputs": [
    {
     "data": {
      "text/html": [
       "<div>\n",
       "<style scoped>\n",
       "    .dataframe tbody tr th:only-of-type {\n",
       "        vertical-align: middle;\n",
       "    }\n",
       "\n",
       "    .dataframe tbody tr th {\n",
       "        vertical-align: top;\n",
       "    }\n",
       "\n",
       "    .dataframe thead th {\n",
       "        text-align: right;\n",
       "    }\n",
       "</style>\n",
       "<table border=\"1\" class=\"dataframe\">\n",
       "  <thead>\n",
       "    <tr style=\"text-align: right;\">\n",
       "      <th></th>\n",
       "      <th>cement [kg/m3]</th>\n",
       "      <th>popiół_lotny [kg/m3]</th>\n",
       "      <th>woda [kg/m3]</th>\n",
       "      <th>superplastyfikator [kg/m3]</th>\n",
       "      <th>kruszywo_grube [kg/m3]</th>\n",
       "      <th>kruszywo_drobne [kg/m3]</th>\n",
       "      <th>wiek [dni]</th>\n",
       "    </tr>\n",
       "  </thead>\n",
       "  <tbody>\n",
       "    <tr>\n",
       "      <th>236</th>\n",
       "      <td>213.7</td>\n",
       "      <td>24.5</td>\n",
       "      <td>181.7</td>\n",
       "      <td>6.9</td>\n",
       "      <td>1065.8</td>\n",
       "      <td>785.4</td>\n",
       "      <td>3.0</td>\n",
       "    </tr>\n",
       "  </tbody>\n",
       "</table>\n",
       "</div>"
      ],
      "text/plain": [
       "     cement [kg/m3]  popiół_lotny [kg/m3]  woda [kg/m3]  \\\n",
       "236           213.7                  24.5         181.7   \n",
       "\n",
       "     superplastyfikator [kg/m3]  kruszywo_grube [kg/m3]  \\\n",
       "236                         6.9                  1065.8   \n",
       "\n",
       "     kruszywo_drobne [kg/m3]  wiek [dni]  \n",
       "236                    785.4         3.0  "
      ]
     },
     "execution_count": 107,
     "metadata": {},
     "output_type": "execute_result"
    }
   ],
   "source": [
    "X_train.iloc[[2],:]"
   ]
  },
  {
   "cell_type": "code",
   "execution_count": 108,
   "id": "b7e86a07",
   "metadata": {},
   "outputs": [
    {
     "data": {
      "text/plain": [
       "12.8745368765085"
      ]
     },
     "execution_count": 108,
     "metadata": {},
     "output_type": "execute_result"
    }
   ],
   "source": [
    "przyklad = pf.fit_transform(X_train.iloc[[2],:])\n",
    "z = lr.predict(przyklad) #Przykład dla jakiejś tablicy.\n",
    "z[0]"
   ]
  },
  {
   "cell_type": "code",
   "execution_count": 109,
   "id": "e4c44655",
   "metadata": {},
   "outputs": [
    {
     "data": {
      "image/png": "[encoded data removed]",
      "text/plain": [
       "<Figure size 720x576 with 1 Axes>"
      ]
     },
     "metadata": {
      "needs_background": "light"
     },
     "output_type": "display_data"
    }
   ],
   "source": [
    "plt.figure(figsize=(10,8))\n",
    "plt.scatter(y_pred_lr2te,y_test)\n",
    "plt.plot([y_test.min(), y_test.max()], [y_test.min(), y_test.max()], color='red')\n",
    "plt.xlabel('predicted')\n",
    "plt.ylabel('orignal')\n",
    "plt.show()"
   ]
  },
  {
   "cell_type": "code",
   "execution_count": 110,
   "id": "bce4751d",
   "metadata": {},
   "outputs": [],
   "source": [
    "from sklearn.tree import DecisionTreeRegressor"
   ]
  },
  {
   "cell_type": "code",
   "execution_count": 111,
   "id": "45b9a9ee",
   "metadata": {},
   "outputs": [
    {
     "name": "stdout",
     "output_type": "stream",
     "text": [
      "Train R2 score:  0.9955427325403053\n",
      "Test R2 score:  0.7650761852614998\n"
     ]
    }
   ],
   "source": [
    "dt=DecisionTreeRegressor()\n",
    "dt.fit(X_train,y_train)\n",
    "dt.score(X_train,y_train)\n",
    "y_pred_dttr=dt.predict(X_train)\n",
    "y_pred_dtte=dt.predict(X_test)\n",
    "print('Train R2 score: ',r2_score(y_train,y_pred_dttr))\n",
    "print('Test R2 score: ',r2_score(y_test,y_pred_dtte))"
   ]
  },
  {
   "cell_type": "code",
   "execution_count": 112,
   "id": "a8c583a6",
   "metadata": {},
   "outputs": [
    {
     "data": {
      "image/png": "[encoded data removed]",
      "text/plain": [
       "<Figure size 720x576 with 1 Axes>"
      ]
     },
     "metadata": {
      "needs_background": "light"
     },
     "output_type": "display_data"
    }
   ],
   "source": [
    "plt.figure(figsize=(10,8))\n",
    "plt.scatter(y_pred_dtte,y_test)\n",
    "plt.plot([y_test.min(), y_test.max()], [y_test.min(), y_test.max()], color='red')\n",
    "plt.xlabel('predicted')\n",
    "plt.ylabel('orignal')\n",
    "plt.show()"
   ]
  },
  {
   "cell_type": "code",
   "execution_count": null,
   "id": "99f6ae33",
   "metadata": {},
   "outputs": [],
   "source": []
  },
  {
   "cell_type": "code",
   "execution_count": 113,
   "id": "d69a509d",
   "metadata": {},
   "outputs": [
    {
     "data": {
      "text/plain": [
       "36.8"
      ]
     },
     "execution_count": 113,
     "metadata": {},
     "output_type": "execute_result"
    }
   ],
   "source": [
    "przyklad = X_test.iloc[[2],:]\n",
    "walidacja = y_test.iloc[2]\n",
    "z = dt.predict(przyklad) #Przykład dla jakiejś tablicy.\n",
    "z[0]"
   ]
  },
  {
   "cell_type": "code",
   "execution_count": 114,
   "id": "4b1ae2a8",
   "metadata": {},
   "outputs": [
    {
     "data": {
      "text/plain": [
       "36.8"
      ]
     },
     "execution_count": 114,
     "metadata": {},
     "output_type": "execute_result"
    }
   ],
   "source": [
    "walidacja"
   ]
  },
  {
   "cell_type": "code",
   "execution_count": 115,
   "id": "14fc659b",
   "metadata": {},
   "outputs": [
    {
     "data": {
      "text/html": [
       "<div>\n",
       "<style scoped>\n",
       "    .dataframe tbody tr th:only-of-type {\n",
       "        vertical-align: middle;\n",
       "    }\n",
       "\n",
       "    .dataframe tbody tr th {\n",
       "        vertical-align: top;\n",
       "    }\n",
       "\n",
       "    .dataframe thead th {\n",
       "        text-align: right;\n",
       "    }\n",
       "</style>\n",
       "<table border=\"1\" class=\"dataframe\">\n",
       "  <thead>\n",
       "    <tr style=\"text-align: right;\">\n",
       "      <th></th>\n",
       "      <th>cement [kg/m3]</th>\n",
       "      <th>popiół_lotny [kg/m3]</th>\n",
       "      <th>woda [kg/m3]</th>\n",
       "      <th>superplastyfikator [kg/m3]</th>\n",
       "      <th>kruszywo_grube [kg/m3]</th>\n",
       "      <th>kruszywo_drobne [kg/m3]</th>\n",
       "      <th>wiek [dni]</th>\n",
       "    </tr>\n",
       "  </thead>\n",
       "  <tbody>\n",
       "    <tr>\n",
       "      <th>225</th>\n",
       "      <td>313.3</td>\n",
       "      <td>113.0</td>\n",
       "      <td>178.5</td>\n",
       "      <td>8.0</td>\n",
       "      <td>1001.9</td>\n",
       "      <td>688.7</td>\n",
       "      <td>28.0</td>\n",
       "    </tr>\n",
       "  </tbody>\n",
       "</table>\n",
       "</div>"
      ],
      "text/plain": [
       "     cement [kg/m3]  popiół_lotny [kg/m3]  woda [kg/m3]  \\\n",
       "225           313.3                 113.0         178.5   \n",
       "\n",
       "     superplastyfikator [kg/m3]  kruszywo_grube [kg/m3]  \\\n",
       "225                         8.0                  1001.9   \n",
       "\n",
       "     kruszywo_drobne [kg/m3]  wiek [dni]  \n",
       "225                    688.7        28.0  "
      ]
     },
     "execution_count": 115,
     "metadata": {},
     "output_type": "execute_result"
    }
   ],
   "source": [
    "przyklad"
   ]
  },
  {
   "cell_type": "code",
   "execution_count": 116,
   "id": "b1101fbb",
   "metadata": {},
   "outputs": [
    {
     "data": {
      "text/plain": [
       "cement [kg/m3]                 313.3\n",
       "popiół_lotny [kg/m3]           113.0\n",
       "woda [kg/m3]                   178.5\n",
       "superplastyfikator [kg/m3]       8.0\n",
       "kruszywo_grube [kg/m3]        1001.9\n",
       "kruszywo_drobne [kg/m3]        688.7\n",
       "wiek [dni]                      28.0\n",
       "strength                        36.8\n",
       "Name: 225, dtype: float64"
      ]
     },
     "execution_count": 116,
     "metadata": {},
     "output_type": "execute_result"
    }
   ],
   "source": [
    "beton.loc[225,:]"
   ]
  },
  {
   "cell_type": "code",
   "execution_count": null,
   "id": "ac8aa84c",
   "metadata": {},
   "outputs": [],
   "source": []
  },
  {
   "cell_type": "code",
   "execution_count": null,
   "id": "a572917e",
   "metadata": {},
   "outputs": [],
   "source": []
  }
 ],
 "metadata": {
  "kernelspec": {
   "display_name": "Python 3 (ipykernel)",
   "language": "python",
   "name": "python3"
  },
  "language_info": {
   "codemirror_mode": {
    "name": "ipython",
    "version": 3
   },
   "file_extension": ".py",
   "mimetype": "text/x-python",
   "name": "python",
   "nbconvert_exporter": "python",
   "pygments_lexer": "ipython3",
   "version": "3.9.7"
  }
 },
 "nbformat": 4,
 "nbformat_minor": 5
}
